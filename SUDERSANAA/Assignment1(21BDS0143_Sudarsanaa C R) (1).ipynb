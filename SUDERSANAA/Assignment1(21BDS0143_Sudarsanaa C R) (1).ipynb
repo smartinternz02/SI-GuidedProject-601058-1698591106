{
  "nbformat": 4,
  "nbformat_minor": 0,
  "metadata": {
    "colab": {
      "provenance": []
    },
    "kernelspec": {
      "name": "python3",
      "display_name": "Python 3"
    },
    "language_info": {
      "name": "python"
    }
  },
  "cells": [
    {
      "cell_type": "code",
      "execution_count": null,
      "metadata": {
        "id": "4_EZL82XhtKR"
      },
      "outputs": [],
      "source": []
    },
    {
      "cell_type": "markdown",
      "source": [
        "ASSIGNMENT 1(track: AIML)"
      ],
      "metadata": {
        "id": "rIzqpHBOh7lp"
      }
    },
    {
      "cell_type": "markdown",
      "source": [
        "Name: Sudarsanaa C R (21BDS0143)\n"
      ],
      "metadata": {
        "id": "Zi9I4aS0h9gE"
      }
    },
    {
      "cell_type": "code",
      "source": [
        "import pandas as pd\n",
        "import numpy as np\n",
        "# Task 1: Create a pandas DataFrame\n",
        "data = {\n",
        "    'Feature1': np.random.rand(10),\n",
        "    'Feature2': np.random.randint(1, 100, 10),\n",
        "    'Feature3': np.random.choice(['A', 'B', 'C'], 10),\n",
        "    'Feature4': np.random.randn(10),\n",
        "    'Feature5': np.random.choice([True, False], 10)\n",
        "}\n",
        "\n",
        "df = pd.DataFrame(data)"
      ],
      "metadata": {
        "id": "9yUPHMsGiZju"
      },
      "execution_count": 1,
      "outputs": []
    },
    {
      "cell_type": "code",
      "source": [
        "# Task 2: Check the info of 'df'\n",
        "print(\"Task 2:\")\n",
        "print(df.info())"
      ],
      "metadata": {
        "colab": {
          "base_uri": "https://localhost:8080/"
        },
        "id": "mYBWQNl-io4B",
        "outputId": "4d356936-c8f3-4575-a518-4a2b97d435de"
      },
      "execution_count": 2,
      "outputs": [
        {
          "output_type": "stream",
          "name": "stdout",
          "text": [
            "Task 2:\n",
            "<class 'pandas.core.frame.DataFrame'>\n",
            "RangeIndex: 10 entries, 0 to 9\n",
            "Data columns (total 5 columns):\n",
            " #   Column    Non-Null Count  Dtype  \n",
            "---  ------    --------------  -----  \n",
            " 0   Feature1  10 non-null     float64\n",
            " 1   Feature2  10 non-null     int64  \n",
            " 2   Feature3  10 non-null     object \n",
            " 3   Feature4  10 non-null     float64\n",
            " 4   Feature5  10 non-null     bool   \n",
            "dtypes: bool(1), float64(2), int64(1), object(1)\n",
            "memory usage: 458.0+ bytes\n",
            "None\n"
          ]
        }
      ]
    },
    {
      "cell_type": "code",
      "source": [
        "# Task 3: Check the descriptive statistics of 'df'\n",
        "print(\"\\nTask 3:\")\n",
        "print(df.describe())"
      ],
      "metadata": {
        "colab": {
          "base_uri": "https://localhost:8080/"
        },
        "id": "j01y0oa0jGGG",
        "outputId": "271a4486-92dd-41bf-af73-7737dc59d9cc"
      },
      "execution_count": 3,
      "outputs": [
        {
          "output_type": "stream",
          "name": "stdout",
          "text": [
            "\n",
            "Task 3:\n",
            "        Feature1   Feature2   Feature4\n",
            "count  10.000000  10.000000  10.000000\n",
            "mean    0.428859  53.300000  -0.252368\n",
            "std     0.253754  29.112998   0.655318\n",
            "min     0.063977  24.000000  -1.335478\n",
            "25%     0.310071  27.250000  -0.689570\n",
            "50%     0.359941  46.500000  -0.123859\n",
            "75%     0.505270  73.250000   0.169583\n",
            "max     0.979178  97.000000   0.847217\n"
          ]
        }
      ]
    },
    {
      "cell_type": "code",
      "source": [
        "# Task 4: Check the 4th index observation with 'loc' slicing operator\n",
        "print(\"\\nTask 4:\")\n",
        "print(df.loc[4])"
      ],
      "metadata": {
        "colab": {
          "base_uri": "https://localhost:8080/"
        },
        "id": "rOSRvqg3jR_E",
        "outputId": "40fc3ed7-46ec-4546-be64-b0b012e639ac"
      },
      "execution_count": 4,
      "outputs": [
        {
          "output_type": "stream",
          "name": "stdout",
          "text": [
            "\n",
            "Task 4:\n",
            "Feature1    0.663439\n",
            "Feature2          35\n",
            "Feature3           B\n",
            "Feature4    0.250349\n",
            "Feature5       False\n",
            "Name: 4, dtype: object\n"
          ]
        }
      ]
    },
    {
      "cell_type": "code",
      "source": [
        "# Task 5: Check the null values in 'df'\n",
        "print(\"\\nTask 5:\")\n",
        "print(df.isnull().sum())"
      ],
      "metadata": {
        "colab": {
          "base_uri": "https://localhost:8080/"
        },
        "id": "W7Nk688yjftc",
        "outputId": "14290aee-d95b-458c-9911-2ad77bf3cdfc"
      },
      "execution_count": 5,
      "outputs": [
        {
          "output_type": "stream",
          "name": "stdout",
          "text": [
            "\n",
            "Task 5:\n",
            "Feature1    0\n",
            "Feature2    0\n",
            "Feature3    0\n",
            "Feature4    0\n",
            "Feature5    0\n",
            "dtype: int64\n"
          ]
        }
      ]
    }
  ]
}