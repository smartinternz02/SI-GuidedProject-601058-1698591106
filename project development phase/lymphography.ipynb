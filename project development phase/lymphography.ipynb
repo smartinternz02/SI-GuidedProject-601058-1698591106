{
  "nbformat": 4,
  "nbformat_minor": 0,
  "metadata": {
    "colab": {
      "provenance": []
    },
    "kernelspec": {
      "name": "python3",
      "display_name": "Python 3"
    },
    "language_info": {
      "name": "python"
    }
  },
  "cells": [
    {
      "cell_type": "code",
      "source": [
        "import pandas as pd\n",
        "import numpy as np\n",
        "import seaborn as sns\n",
        "import matplotlib.pyplot as plt"
      ],
      "metadata": {
        "id": "nQEZxZJ8eDUd"
      },
      "execution_count": 1,
      "outputs": []
    },
    {
      "cell_type": "code",
      "source": [
        "col_names = ['class', 'lymphatics', 'block of affere', 'bl. of lymph. c', 'bl. of lymph. s', 'by pass',\n",
        " 'extravasates', 'regeneration of', 'early uptake in', 'lym.nodes dimin', 'lym.nodes enlar',\n",
        "'changes in lym.', 'defect in node', 'changes in node', 'changes in stru', 'special forms',\n",
        "'dislocation of', 'exclusion of no', 'no. of nodes in']"
      ],
      "metadata": {
        "id": "mdfF6yu882zE"
      },
      "execution_count": 2,
      "outputs": []
    },
    {
      "cell_type": "code",
      "source": [
        "df = pd.read_csv(\"lymphography.data\", names=col_names)\n",
        "df.head()"
      ],
      "metadata": {
        "colab": {
          "base_uri": "https://localhost:8080/",
          "height": 278
        },
        "id": "MNuO9Y7o7gcE",
        "outputId": "78dc5640-5025-4706-929b-b554bd68880f"
      },
      "execution_count": 3,
      "outputs": [
        {
          "output_type": "execute_result",
          "data": {
            "text/plain": [
              "   class  lymphatics  block of affere  bl. of lymph. c  bl. of lymph. s  \\\n",
              "0      3           4                2                1                1   \n",
              "1      2           3                2                1                1   \n",
              "2      3           3                2                2                2   \n",
              "3      3           3                1                1                1   \n",
              "4      2           3                1                1                1   \n",
              "\n",
              "   by pass  extravasates  regeneration of  early uptake in  lym.nodes dimin  \\\n",
              "0        1             1                1                2                1   \n",
              "1        2             2                1                2                1   \n",
              "2        2             2                2                2                1   \n",
              "3        1             2                1                2                1   \n",
              "4        1             1                1                1                1   \n",
              "\n",
              "   lym.nodes enlar  changes in lym.  defect in node  changes in node  \\\n",
              "0                2                2               2                4   \n",
              "1                3                3               2                3   \n",
              "2                4                3               3                4   \n",
              "3                3                3               4                4   \n",
              "4                2                2               4                3   \n",
              "\n",
              "   changes in stru  special forms  dislocation of  exclusion of no  \\\n",
              "0                8              1               1                2   \n",
              "1                4              2               2                2   \n",
              "2                8              3               2                2   \n",
              "3                4              3               1                2   \n",
              "4                5              1               2                2   \n",
              "\n",
              "   no. of nodes in  \n",
              "0                2  \n",
              "1                2  \n",
              "2                7  \n",
              "3                6  \n",
              "4                1  "
            ],
            "text/html": [
              "\n",
              "  <div id=\"df-df2a772f-ef25-4e23-90b0-f902c5f8d02d\" class=\"colab-df-container\">\n",
              "    <div>\n",
              "<style scoped>\n",
              "    .dataframe tbody tr th:only-of-type {\n",
              "        vertical-align: middle;\n",
              "    }\n",
              "\n",
              "    .dataframe tbody tr th {\n",
              "        vertical-align: top;\n",
              "    }\n",
              "\n",
              "    .dataframe thead th {\n",
              "        text-align: right;\n",
              "    }\n",
              "</style>\n",
              "<table border=\"1\" class=\"dataframe\">\n",
              "  <thead>\n",
              "    <tr style=\"text-align: right;\">\n",
              "      <th></th>\n",
              "      <th>class</th>\n",
              "      <th>lymphatics</th>\n",
              "      <th>block of affere</th>\n",
              "      <th>bl. of lymph. c</th>\n",
              "      <th>bl. of lymph. s</th>\n",
              "      <th>by pass</th>\n",
              "      <th>extravasates</th>\n",
              "      <th>regeneration of</th>\n",
              "      <th>early uptake in</th>\n",
              "      <th>lym.nodes dimin</th>\n",
              "      <th>lym.nodes enlar</th>\n",
              "      <th>changes in lym.</th>\n",
              "      <th>defect in node</th>\n",
              "      <th>changes in node</th>\n",
              "      <th>changes in stru</th>\n",
              "      <th>special forms</th>\n",
              "      <th>dislocation of</th>\n",
              "      <th>exclusion of no</th>\n",
              "      <th>no. of nodes in</th>\n",
              "    </tr>\n",
              "  </thead>\n",
              "  <tbody>\n",
              "    <tr>\n",
              "      <th>0</th>\n",
              "      <td>3</td>\n",
              "      <td>4</td>\n",
              "      <td>2</td>\n",
              "      <td>1</td>\n",
              "      <td>1</td>\n",
              "      <td>1</td>\n",
              "      <td>1</td>\n",
              "      <td>1</td>\n",
              "      <td>2</td>\n",
              "      <td>1</td>\n",
              "      <td>2</td>\n",
              "      <td>2</td>\n",
              "      <td>2</td>\n",
              "      <td>4</td>\n",
              "      <td>8</td>\n",
              "      <td>1</td>\n",
              "      <td>1</td>\n",
              "      <td>2</td>\n",
              "      <td>2</td>\n",
              "    </tr>\n",
              "    <tr>\n",
              "      <th>1</th>\n",
              "      <td>2</td>\n",
              "      <td>3</td>\n",
              "      <td>2</td>\n",
              "      <td>1</td>\n",
              "      <td>1</td>\n",
              "      <td>2</td>\n",
              "      <td>2</td>\n",
              "      <td>1</td>\n",
              "      <td>2</td>\n",
              "      <td>1</td>\n",
              "      <td>3</td>\n",
              "      <td>3</td>\n",
              "      <td>2</td>\n",
              "      <td>3</td>\n",
              "      <td>4</td>\n",
              "      <td>2</td>\n",
              "      <td>2</td>\n",
              "      <td>2</td>\n",
              "      <td>2</td>\n",
              "    </tr>\n",
              "    <tr>\n",
              "      <th>2</th>\n",
              "      <td>3</td>\n",
              "      <td>3</td>\n",
              "      <td>2</td>\n",
              "      <td>2</td>\n",
              "      <td>2</td>\n",
              "      <td>2</td>\n",
              "      <td>2</td>\n",
              "      <td>2</td>\n",
              "      <td>2</td>\n",
              "      <td>1</td>\n",
              "      <td>4</td>\n",
              "      <td>3</td>\n",
              "      <td>3</td>\n",
              "      <td>4</td>\n",
              "      <td>8</td>\n",
              "      <td>3</td>\n",
              "      <td>2</td>\n",
              "      <td>2</td>\n",
              "      <td>7</td>\n",
              "    </tr>\n",
              "    <tr>\n",
              "      <th>3</th>\n",
              "      <td>3</td>\n",
              "      <td>3</td>\n",
              "      <td>1</td>\n",
              "      <td>1</td>\n",
              "      <td>1</td>\n",
              "      <td>1</td>\n",
              "      <td>2</td>\n",
              "      <td>1</td>\n",
              "      <td>2</td>\n",
              "      <td>1</td>\n",
              "      <td>3</td>\n",
              "      <td>3</td>\n",
              "      <td>4</td>\n",
              "      <td>4</td>\n",
              "      <td>4</td>\n",
              "      <td>3</td>\n",
              "      <td>1</td>\n",
              "      <td>2</td>\n",
              "      <td>6</td>\n",
              "    </tr>\n",
              "    <tr>\n",
              "      <th>4</th>\n",
              "      <td>2</td>\n",
              "      <td>3</td>\n",
              "      <td>1</td>\n",
              "      <td>1</td>\n",
              "      <td>1</td>\n",
              "      <td>1</td>\n",
              "      <td>1</td>\n",
              "      <td>1</td>\n",
              "      <td>1</td>\n",
              "      <td>1</td>\n",
              "      <td>2</td>\n",
              "      <td>2</td>\n",
              "      <td>4</td>\n",
              "      <td>3</td>\n",
              "      <td>5</td>\n",
              "      <td>1</td>\n",
              "      <td>2</td>\n",
              "      <td>2</td>\n",
              "      <td>1</td>\n",
              "    </tr>\n",
              "  </tbody>\n",
              "</table>\n",
              "</div>\n",
              "    <div class=\"colab-df-buttons\">\n",
              "\n",
              "  <div class=\"colab-df-container\">\n",
              "    <button class=\"colab-df-convert\" onclick=\"convertToInteractive('df-df2a772f-ef25-4e23-90b0-f902c5f8d02d')\"\n",
              "            title=\"Convert this dataframe to an interactive table.\"\n",
              "            style=\"display:none;\">\n",
              "\n",
              "  <svg xmlns=\"http://www.w3.org/2000/svg\" height=\"24px\" viewBox=\"0 -960 960 960\">\n",
              "    <path d=\"M120-120v-720h720v720H120Zm60-500h600v-160H180v160Zm220 220h160v-160H400v160Zm0 220h160v-160H400v160ZM180-400h160v-160H180v160Zm440 0h160v-160H620v160ZM180-180h160v-160H180v160Zm440 0h160v-160H620v160Z\"/>\n",
              "  </svg>\n",
              "    </button>\n",
              "\n",
              "  <style>\n",
              "    .colab-df-container {\n",
              "      display:flex;\n",
              "      gap: 12px;\n",
              "    }\n",
              "\n",
              "    .colab-df-convert {\n",
              "      background-color: #E8F0FE;\n",
              "      border: none;\n",
              "      border-radius: 50%;\n",
              "      cursor: pointer;\n",
              "      display: none;\n",
              "      fill: #1967D2;\n",
              "      height: 32px;\n",
              "      padding: 0 0 0 0;\n",
              "      width: 32px;\n",
              "    }\n",
              "\n",
              "    .colab-df-convert:hover {\n",
              "      background-color: #E2EBFA;\n",
              "      box-shadow: 0px 1px 2px rgba(60, 64, 67, 0.3), 0px 1px 3px 1px rgba(60, 64, 67, 0.15);\n",
              "      fill: #174EA6;\n",
              "    }\n",
              "\n",
              "    .colab-df-buttons div {\n",
              "      margin-bottom: 4px;\n",
              "    }\n",
              "\n",
              "    [theme=dark] .colab-df-convert {\n",
              "      background-color: #3B4455;\n",
              "      fill: #D2E3FC;\n",
              "    }\n",
              "\n",
              "    [theme=dark] .colab-df-convert:hover {\n",
              "      background-color: #434B5C;\n",
              "      box-shadow: 0px 1px 3px 1px rgba(0, 0, 0, 0.15);\n",
              "      filter: drop-shadow(0px 1px 2px rgba(0, 0, 0, 0.3));\n",
              "      fill: #FFFFFF;\n",
              "    }\n",
              "  </style>\n",
              "\n",
              "    <script>\n",
              "      const buttonEl =\n",
              "        document.querySelector('#df-df2a772f-ef25-4e23-90b0-f902c5f8d02d button.colab-df-convert');\n",
              "      buttonEl.style.display =\n",
              "        google.colab.kernel.accessAllowed ? 'block' : 'none';\n",
              "\n",
              "      async function convertToInteractive(key) {\n",
              "        const element = document.querySelector('#df-df2a772f-ef25-4e23-90b0-f902c5f8d02d');\n",
              "        const dataTable =\n",
              "          await google.colab.kernel.invokeFunction('convertToInteractive',\n",
              "                                                    [key], {});\n",
              "        if (!dataTable) return;\n",
              "\n",
              "        const docLinkHtml = 'Like what you see? Visit the ' +\n",
              "          '<a target=\"_blank\" href=https://colab.research.google.com/notebooks/data_table.ipynb>data table notebook</a>'\n",
              "          + ' to learn more about interactive tables.';\n",
              "        element.innerHTML = '';\n",
              "        dataTable['output_type'] = 'display_data';\n",
              "        await google.colab.output.renderOutput(dataTable, element);\n",
              "        const docLink = document.createElement('div');\n",
              "        docLink.innerHTML = docLinkHtml;\n",
              "        element.appendChild(docLink);\n",
              "      }\n",
              "    </script>\n",
              "  </div>\n",
              "\n",
              "\n",
              "<div id=\"df-b49d4b84-a454-4a49-96b2-c968cf422ebc\">\n",
              "  <button class=\"colab-df-quickchart\" onclick=\"quickchart('df-b49d4b84-a454-4a49-96b2-c968cf422ebc')\"\n",
              "            title=\"Suggest charts\"\n",
              "            style=\"display:none;\">\n",
              "\n",
              "<svg xmlns=\"http://www.w3.org/2000/svg\" height=\"24px\"viewBox=\"0 0 24 24\"\n",
              "     width=\"24px\">\n",
              "    <g>\n",
              "        <path d=\"M19 3H5c-1.1 0-2 .9-2 2v14c0 1.1.9 2 2 2h14c1.1 0 2-.9 2-2V5c0-1.1-.9-2-2-2zM9 17H7v-7h2v7zm4 0h-2V7h2v10zm4 0h-2v-4h2v4z\"/>\n",
              "    </g>\n",
              "</svg>\n",
              "  </button>\n",
              "\n",
              "<style>\n",
              "  .colab-df-quickchart {\n",
              "      --bg-color: #E8F0FE;\n",
              "      --fill-color: #1967D2;\n",
              "      --hover-bg-color: #E2EBFA;\n",
              "      --hover-fill-color: #174EA6;\n",
              "      --disabled-fill-color: #AAA;\n",
              "      --disabled-bg-color: #DDD;\n",
              "  }\n",
              "\n",
              "  [theme=dark] .colab-df-quickchart {\n",
              "      --bg-color: #3B4455;\n",
              "      --fill-color: #D2E3FC;\n",
              "      --hover-bg-color: #434B5C;\n",
              "      --hover-fill-color: #FFFFFF;\n",
              "      --disabled-bg-color: #3B4455;\n",
              "      --disabled-fill-color: #666;\n",
              "  }\n",
              "\n",
              "  .colab-df-quickchart {\n",
              "    background-color: var(--bg-color);\n",
              "    border: none;\n",
              "    border-radius: 50%;\n",
              "    cursor: pointer;\n",
              "    display: none;\n",
              "    fill: var(--fill-color);\n",
              "    height: 32px;\n",
              "    padding: 0;\n",
              "    width: 32px;\n",
              "  }\n",
              "\n",
              "  .colab-df-quickchart:hover {\n",
              "    background-color: var(--hover-bg-color);\n",
              "    box-shadow: 0 1px 2px rgba(60, 64, 67, 0.3), 0 1px 3px 1px rgba(60, 64, 67, 0.15);\n",
              "    fill: var(--button-hover-fill-color);\n",
              "  }\n",
              "\n",
              "  .colab-df-quickchart-complete:disabled,\n",
              "  .colab-df-quickchart-complete:disabled:hover {\n",
              "    background-color: var(--disabled-bg-color);\n",
              "    fill: var(--disabled-fill-color);\n",
              "    box-shadow: none;\n",
              "  }\n",
              "\n",
              "  .colab-df-spinner {\n",
              "    border: 2px solid var(--fill-color);\n",
              "    border-color: transparent;\n",
              "    border-bottom-color: var(--fill-color);\n",
              "    animation:\n",
              "      spin 1s steps(1) infinite;\n",
              "  }\n",
              "\n",
              "  @keyframes spin {\n",
              "    0% {\n",
              "      border-color: transparent;\n",
              "      border-bottom-color: var(--fill-color);\n",
              "      border-left-color: var(--fill-color);\n",
              "    }\n",
              "    20% {\n",
              "      border-color: transparent;\n",
              "      border-left-color: var(--fill-color);\n",
              "      border-top-color: var(--fill-color);\n",
              "    }\n",
              "    30% {\n",
              "      border-color: transparent;\n",
              "      border-left-color: var(--fill-color);\n",
              "      border-top-color: var(--fill-color);\n",
              "      border-right-color: var(--fill-color);\n",
              "    }\n",
              "    40% {\n",
              "      border-color: transparent;\n",
              "      border-right-color: var(--fill-color);\n",
              "      border-top-color: var(--fill-color);\n",
              "    }\n",
              "    60% {\n",
              "      border-color: transparent;\n",
              "      border-right-color: var(--fill-color);\n",
              "    }\n",
              "    80% {\n",
              "      border-color: transparent;\n",
              "      border-right-color: var(--fill-color);\n",
              "      border-bottom-color: var(--fill-color);\n",
              "    }\n",
              "    90% {\n",
              "      border-color: transparent;\n",
              "      border-bottom-color: var(--fill-color);\n",
              "    }\n",
              "  }\n",
              "</style>\n",
              "\n",
              "  <script>\n",
              "    async function quickchart(key) {\n",
              "      const quickchartButtonEl =\n",
              "        document.querySelector('#' + key + ' button');\n",
              "      quickchartButtonEl.disabled = true;  // To prevent multiple clicks.\n",
              "      quickchartButtonEl.classList.add('colab-df-spinner');\n",
              "      try {\n",
              "        const charts = await google.colab.kernel.invokeFunction(\n",
              "            'suggestCharts', [key], {});\n",
              "      } catch (error) {\n",
              "        console.error('Error during call to suggestCharts:', error);\n",
              "      }\n",
              "      quickchartButtonEl.classList.remove('colab-df-spinner');\n",
              "      quickchartButtonEl.classList.add('colab-df-quickchart-complete');\n",
              "    }\n",
              "    (() => {\n",
              "      let quickchartButtonEl =\n",
              "        document.querySelector('#df-b49d4b84-a454-4a49-96b2-c968cf422ebc button');\n",
              "      quickchartButtonEl.style.display =\n",
              "        google.colab.kernel.accessAllowed ? 'block' : 'none';\n",
              "    })();\n",
              "  </script>\n",
              "</div>\n",
              "    </div>\n",
              "  </div>\n"
            ]
          },
          "metadata": {},
          "execution_count": 3
        }
      ]
    },
    {
      "cell_type": "code",
      "source": [
        "df.describe()"
      ],
      "metadata": {
        "colab": {
          "base_uri": "https://localhost:8080/",
          "height": 337
        },
        "id": "g1WbSqzJ9JXq",
        "outputId": "c5cc9c87-3649-4bfd-f1fc-4d061676dc3f"
      },
      "execution_count": 4,
      "outputs": [
        {
          "output_type": "execute_result",
          "data": {
            "text/plain": [
              "            class  lymphatics  block of affere  bl. of lymph. c  \\\n",
              "count  148.000000  148.000000       148.000000       148.000000   \n",
              "mean     2.452703    2.743243         1.554054         1.175676   \n",
              "std      0.575396    0.817509         0.498757         0.381836   \n",
              "min      1.000000    1.000000         1.000000         1.000000   \n",
              "25%      2.000000    2.000000         1.000000         1.000000   \n",
              "50%      2.000000    3.000000         2.000000         1.000000   \n",
              "75%      3.000000    3.000000         2.000000         1.000000   \n",
              "max      4.000000    4.000000         2.000000         2.000000   \n",
              "\n",
              "       bl. of lymph. s     by pass  extravasates  regeneration of  \\\n",
              "count       148.000000  148.000000    148.000000       148.000000   \n",
              "mean          1.047297    1.243243      1.506757         1.067568   \n",
              "std           0.212995    0.430498      0.501652         0.251855   \n",
              "min           1.000000    1.000000      1.000000         1.000000   \n",
              "25%           1.000000    1.000000      1.000000         1.000000   \n",
              "50%           1.000000    1.000000      2.000000         1.000000   \n",
              "75%           1.000000    1.000000      2.000000         1.000000   \n",
              "max           2.000000    2.000000      2.000000         2.000000   \n",
              "\n",
              "       early uptake in  lym.nodes dimin  lym.nodes enlar  changes in lym.  \\\n",
              "count       148.000000       148.000000       148.000000       148.000000   \n",
              "mean          1.702703         1.060811         2.472973         2.398649   \n",
              "std           0.458621         0.313557         0.836627         0.568323   \n",
              "min           1.000000         1.000000         1.000000         1.000000   \n",
              "25%           1.000000         1.000000         2.000000         2.000000   \n",
              "50%           2.000000         1.000000         2.000000         2.000000   \n",
              "75%           2.000000         1.000000         3.000000         3.000000   \n",
              "max           2.000000         3.000000         4.000000         3.000000   \n",
              "\n",
              "       defect in node  changes in node  changes in stru  special forms  \\\n",
              "count      148.000000       148.000000       148.000000     148.000000   \n",
              "mean         2.966216         2.804054         5.216216       2.331081   \n",
              "std          0.868305         0.761834         2.171368       0.777126   \n",
              "min          1.000000         1.000000         1.000000       1.000000   \n",
              "25%          2.000000         2.000000         4.000000       2.000000   \n",
              "50%          3.000000         3.000000         5.000000       3.000000   \n",
              "75%          4.000000         3.000000         8.000000       3.000000   \n",
              "max          4.000000         4.000000         8.000000       3.000000   \n",
              "\n",
              "       dislocation of  exclusion of no  no. of nodes in  \n",
              "count      148.000000       148.000000       148.000000  \n",
              "mean         1.662162         1.790541         2.601351  \n",
              "std          0.474579         0.408305         1.905023  \n",
              "min          1.000000         1.000000         1.000000  \n",
              "25%          1.000000         2.000000         1.000000  \n",
              "50%          2.000000         2.000000         2.000000  \n",
              "75%          2.000000         2.000000         3.000000  \n",
              "max          2.000000         2.000000         8.000000  "
            ],
            "text/html": [
              "\n",
              "  <div id=\"df-dd7e282d-8337-4c48-a05b-b525c29a2f78\" class=\"colab-df-container\">\n",
              "    <div>\n",
              "<style scoped>\n",
              "    .dataframe tbody tr th:only-of-type {\n",
              "        vertical-align: middle;\n",
              "    }\n",
              "\n",
              "    .dataframe tbody tr th {\n",
              "        vertical-align: top;\n",
              "    }\n",
              "\n",
              "    .dataframe thead th {\n",
              "        text-align: right;\n",
              "    }\n",
              "</style>\n",
              "<table border=\"1\" class=\"dataframe\">\n",
              "  <thead>\n",
              "    <tr style=\"text-align: right;\">\n",
              "      <th></th>\n",
              "      <th>class</th>\n",
              "      <th>lymphatics</th>\n",
              "      <th>block of affere</th>\n",
              "      <th>bl. of lymph. c</th>\n",
              "      <th>bl. of lymph. s</th>\n",
              "      <th>by pass</th>\n",
              "      <th>extravasates</th>\n",
              "      <th>regeneration of</th>\n",
              "      <th>early uptake in</th>\n",
              "      <th>lym.nodes dimin</th>\n",
              "      <th>lym.nodes enlar</th>\n",
              "      <th>changes in lym.</th>\n",
              "      <th>defect in node</th>\n",
              "      <th>changes in node</th>\n",
              "      <th>changes in stru</th>\n",
              "      <th>special forms</th>\n",
              "      <th>dislocation of</th>\n",
              "      <th>exclusion of no</th>\n",
              "      <th>no. of nodes in</th>\n",
              "    </tr>\n",
              "  </thead>\n",
              "  <tbody>\n",
              "    <tr>\n",
              "      <th>count</th>\n",
              "      <td>148.000000</td>\n",
              "      <td>148.000000</td>\n",
              "      <td>148.000000</td>\n",
              "      <td>148.000000</td>\n",
              "      <td>148.000000</td>\n",
              "      <td>148.000000</td>\n",
              "      <td>148.000000</td>\n",
              "      <td>148.000000</td>\n",
              "      <td>148.000000</td>\n",
              "      <td>148.000000</td>\n",
              "      <td>148.000000</td>\n",
              "      <td>148.000000</td>\n",
              "      <td>148.000000</td>\n",
              "      <td>148.000000</td>\n",
              "      <td>148.000000</td>\n",
              "      <td>148.000000</td>\n",
              "      <td>148.000000</td>\n",
              "      <td>148.000000</td>\n",
              "      <td>148.000000</td>\n",
              "    </tr>\n",
              "    <tr>\n",
              "      <th>mean</th>\n",
              "      <td>2.452703</td>\n",
              "      <td>2.743243</td>\n",
              "      <td>1.554054</td>\n",
              "      <td>1.175676</td>\n",
              "      <td>1.047297</td>\n",
              "      <td>1.243243</td>\n",
              "      <td>1.506757</td>\n",
              "      <td>1.067568</td>\n",
              "      <td>1.702703</td>\n",
              "      <td>1.060811</td>\n",
              "      <td>2.472973</td>\n",
              "      <td>2.398649</td>\n",
              "      <td>2.966216</td>\n",
              "      <td>2.804054</td>\n",
              "      <td>5.216216</td>\n",
              "      <td>2.331081</td>\n",
              "      <td>1.662162</td>\n",
              "      <td>1.790541</td>\n",
              "      <td>2.601351</td>\n",
              "    </tr>\n",
              "    <tr>\n",
              "      <th>std</th>\n",
              "      <td>0.575396</td>\n",
              "      <td>0.817509</td>\n",
              "      <td>0.498757</td>\n",
              "      <td>0.381836</td>\n",
              "      <td>0.212995</td>\n",
              "      <td>0.430498</td>\n",
              "      <td>0.501652</td>\n",
              "      <td>0.251855</td>\n",
              "      <td>0.458621</td>\n",
              "      <td>0.313557</td>\n",
              "      <td>0.836627</td>\n",
              "      <td>0.568323</td>\n",
              "      <td>0.868305</td>\n",
              "      <td>0.761834</td>\n",
              "      <td>2.171368</td>\n",
              "      <td>0.777126</td>\n",
              "      <td>0.474579</td>\n",
              "      <td>0.408305</td>\n",
              "      <td>1.905023</td>\n",
              "    </tr>\n",
              "    <tr>\n",
              "      <th>min</th>\n",
              "      <td>1.000000</td>\n",
              "      <td>1.000000</td>\n",
              "      <td>1.000000</td>\n",
              "      <td>1.000000</td>\n",
              "      <td>1.000000</td>\n",
              "      <td>1.000000</td>\n",
              "      <td>1.000000</td>\n",
              "      <td>1.000000</td>\n",
              "      <td>1.000000</td>\n",
              "      <td>1.000000</td>\n",
              "      <td>1.000000</td>\n",
              "      <td>1.000000</td>\n",
              "      <td>1.000000</td>\n",
              "      <td>1.000000</td>\n",
              "      <td>1.000000</td>\n",
              "      <td>1.000000</td>\n",
              "      <td>1.000000</td>\n",
              "      <td>1.000000</td>\n",
              "      <td>1.000000</td>\n",
              "    </tr>\n",
              "    <tr>\n",
              "      <th>25%</th>\n",
              "      <td>2.000000</td>\n",
              "      <td>2.000000</td>\n",
              "      <td>1.000000</td>\n",
              "      <td>1.000000</td>\n",
              "      <td>1.000000</td>\n",
              "      <td>1.000000</td>\n",
              "      <td>1.000000</td>\n",
              "      <td>1.000000</td>\n",
              "      <td>1.000000</td>\n",
              "      <td>1.000000</td>\n",
              "      <td>2.000000</td>\n",
              "      <td>2.000000</td>\n",
              "      <td>2.000000</td>\n",
              "      <td>2.000000</td>\n",
              "      <td>4.000000</td>\n",
              "      <td>2.000000</td>\n",
              "      <td>1.000000</td>\n",
              "      <td>2.000000</td>\n",
              "      <td>1.000000</td>\n",
              "    </tr>\n",
              "    <tr>\n",
              "      <th>50%</th>\n",
              "      <td>2.000000</td>\n",
              "      <td>3.000000</td>\n",
              "      <td>2.000000</td>\n",
              "      <td>1.000000</td>\n",
              "      <td>1.000000</td>\n",
              "      <td>1.000000</td>\n",
              "      <td>2.000000</td>\n",
              "      <td>1.000000</td>\n",
              "      <td>2.000000</td>\n",
              "      <td>1.000000</td>\n",
              "      <td>2.000000</td>\n",
              "      <td>2.000000</td>\n",
              "      <td>3.000000</td>\n",
              "      <td>3.000000</td>\n",
              "      <td>5.000000</td>\n",
              "      <td>3.000000</td>\n",
              "      <td>2.000000</td>\n",
              "      <td>2.000000</td>\n",
              "      <td>2.000000</td>\n",
              "    </tr>\n",
              "    <tr>\n",
              "      <th>75%</th>\n",
              "      <td>3.000000</td>\n",
              "      <td>3.000000</td>\n",
              "      <td>2.000000</td>\n",
              "      <td>1.000000</td>\n",
              "      <td>1.000000</td>\n",
              "      <td>1.000000</td>\n",
              "      <td>2.000000</td>\n",
              "      <td>1.000000</td>\n",
              "      <td>2.000000</td>\n",
              "      <td>1.000000</td>\n",
              "      <td>3.000000</td>\n",
              "      <td>3.000000</td>\n",
              "      <td>4.000000</td>\n",
              "      <td>3.000000</td>\n",
              "      <td>8.000000</td>\n",
              "      <td>3.000000</td>\n",
              "      <td>2.000000</td>\n",
              "      <td>2.000000</td>\n",
              "      <td>3.000000</td>\n",
              "    </tr>\n",
              "    <tr>\n",
              "      <th>max</th>\n",
              "      <td>4.000000</td>\n",
              "      <td>4.000000</td>\n",
              "      <td>2.000000</td>\n",
              "      <td>2.000000</td>\n",
              "      <td>2.000000</td>\n",
              "      <td>2.000000</td>\n",
              "      <td>2.000000</td>\n",
              "      <td>2.000000</td>\n",
              "      <td>2.000000</td>\n",
              "      <td>3.000000</td>\n",
              "      <td>4.000000</td>\n",
              "      <td>3.000000</td>\n",
              "      <td>4.000000</td>\n",
              "      <td>4.000000</td>\n",
              "      <td>8.000000</td>\n",
              "      <td>3.000000</td>\n",
              "      <td>2.000000</td>\n",
              "      <td>2.000000</td>\n",
              "      <td>8.000000</td>\n",
              "    </tr>\n",
              "  </tbody>\n",
              "</table>\n",
              "</div>\n",
              "    <div class=\"colab-df-buttons\">\n",
              "\n",
              "  <div class=\"colab-df-container\">\n",
              "    <button class=\"colab-df-convert\" onclick=\"convertToInteractive('df-dd7e282d-8337-4c48-a05b-b525c29a2f78')\"\n",
              "            title=\"Convert this dataframe to an interactive table.\"\n",
              "            style=\"display:none;\">\n",
              "\n",
              "  <svg xmlns=\"http://www.w3.org/2000/svg\" height=\"24px\" viewBox=\"0 -960 960 960\">\n",
              "    <path d=\"M120-120v-720h720v720H120Zm60-500h600v-160H180v160Zm220 220h160v-160H400v160Zm0 220h160v-160H400v160ZM180-400h160v-160H180v160Zm440 0h160v-160H620v160ZM180-180h160v-160H180v160Zm440 0h160v-160H620v160Z\"/>\n",
              "  </svg>\n",
              "    </button>\n",
              "\n",
              "  <style>\n",
              "    .colab-df-container {\n",
              "      display:flex;\n",
              "      gap: 12px;\n",
              "    }\n",
              "\n",
              "    .colab-df-convert {\n",
              "      background-color: #E8F0FE;\n",
              "      border: none;\n",
              "      border-radius: 50%;\n",
              "      cursor: pointer;\n",
              "      display: none;\n",
              "      fill: #1967D2;\n",
              "      height: 32px;\n",
              "      padding: 0 0 0 0;\n",
              "      width: 32px;\n",
              "    }\n",
              "\n",
              "    .colab-df-convert:hover {\n",
              "      background-color: #E2EBFA;\n",
              "      box-shadow: 0px 1px 2px rgba(60, 64, 67, 0.3), 0px 1px 3px 1px rgba(60, 64, 67, 0.15);\n",
              "      fill: #174EA6;\n",
              "    }\n",
              "\n",
              "    .colab-df-buttons div {\n",
              "      margin-bottom: 4px;\n",
              "    }\n",
              "\n",
              "    [theme=dark] .colab-df-convert {\n",
              "      background-color: #3B4455;\n",
              "      fill: #D2E3FC;\n",
              "    }\n",
              "\n",
              "    [theme=dark] .colab-df-convert:hover {\n",
              "      background-color: #434B5C;\n",
              "      box-shadow: 0px 1px 3px 1px rgba(0, 0, 0, 0.15);\n",
              "      filter: drop-shadow(0px 1px 2px rgba(0, 0, 0, 0.3));\n",
              "      fill: #FFFFFF;\n",
              "    }\n",
              "  </style>\n",
              "\n",
              "    <script>\n",
              "      const buttonEl =\n",
              "        document.querySelector('#df-dd7e282d-8337-4c48-a05b-b525c29a2f78 button.colab-df-convert');\n",
              "      buttonEl.style.display =\n",
              "        google.colab.kernel.accessAllowed ? 'block' : 'none';\n",
              "\n",
              "      async function convertToInteractive(key) {\n",
              "        const element = document.querySelector('#df-dd7e282d-8337-4c48-a05b-b525c29a2f78');\n",
              "        const dataTable =\n",
              "          await google.colab.kernel.invokeFunction('convertToInteractive',\n",
              "                                                    [key], {});\n",
              "        if (!dataTable) return;\n",
              "\n",
              "        const docLinkHtml = 'Like what you see? Visit the ' +\n",
              "          '<a target=\"_blank\" href=https://colab.research.google.com/notebooks/data_table.ipynb>data table notebook</a>'\n",
              "          + ' to learn more about interactive tables.';\n",
              "        element.innerHTML = '';\n",
              "        dataTable['output_type'] = 'display_data';\n",
              "        await google.colab.output.renderOutput(dataTable, element);\n",
              "        const docLink = document.createElement('div');\n",
              "        docLink.innerHTML = docLinkHtml;\n",
              "        element.appendChild(docLink);\n",
              "      }\n",
              "    </script>\n",
              "  </div>\n",
              "\n",
              "\n",
              "<div id=\"df-71320dcb-013b-45ae-addf-4c9ba55be344\">\n",
              "  <button class=\"colab-df-quickchart\" onclick=\"quickchart('df-71320dcb-013b-45ae-addf-4c9ba55be344')\"\n",
              "            title=\"Suggest charts\"\n",
              "            style=\"display:none;\">\n",
              "\n",
              "<svg xmlns=\"http://www.w3.org/2000/svg\" height=\"24px\"viewBox=\"0 0 24 24\"\n",
              "     width=\"24px\">\n",
              "    <g>\n",
              "        <path d=\"M19 3H5c-1.1 0-2 .9-2 2v14c0 1.1.9 2 2 2h14c1.1 0 2-.9 2-2V5c0-1.1-.9-2-2-2zM9 17H7v-7h2v7zm4 0h-2V7h2v10zm4 0h-2v-4h2v4z\"/>\n",
              "    </g>\n",
              "</svg>\n",
              "  </button>\n",
              "\n",
              "<style>\n",
              "  .colab-df-quickchart {\n",
              "      --bg-color: #E8F0FE;\n",
              "      --fill-color: #1967D2;\n",
              "      --hover-bg-color: #E2EBFA;\n",
              "      --hover-fill-color: #174EA6;\n",
              "      --disabled-fill-color: #AAA;\n",
              "      --disabled-bg-color: #DDD;\n",
              "  }\n",
              "\n",
              "  [theme=dark] .colab-df-quickchart {\n",
              "      --bg-color: #3B4455;\n",
              "      --fill-color: #D2E3FC;\n",
              "      --hover-bg-color: #434B5C;\n",
              "      --hover-fill-color: #FFFFFF;\n",
              "      --disabled-bg-color: #3B4455;\n",
              "      --disabled-fill-color: #666;\n",
              "  }\n",
              "\n",
              "  .colab-df-quickchart {\n",
              "    background-color: var(--bg-color);\n",
              "    border: none;\n",
              "    border-radius: 50%;\n",
              "    cursor: pointer;\n",
              "    display: none;\n",
              "    fill: var(--fill-color);\n",
              "    height: 32px;\n",
              "    padding: 0;\n",
              "    width: 32px;\n",
              "  }\n",
              "\n",
              "  .colab-df-quickchart:hover {\n",
              "    background-color: var(--hover-bg-color);\n",
              "    box-shadow: 0 1px 2px rgba(60, 64, 67, 0.3), 0 1px 3px 1px rgba(60, 64, 67, 0.15);\n",
              "    fill: var(--button-hover-fill-color);\n",
              "  }\n",
              "\n",
              "  .colab-df-quickchart-complete:disabled,\n",
              "  .colab-df-quickchart-complete:disabled:hover {\n",
              "    background-color: var(--disabled-bg-color);\n",
              "    fill: var(--disabled-fill-color);\n",
              "    box-shadow: none;\n",
              "  }\n",
              "\n",
              "  .colab-df-spinner {\n",
              "    border: 2px solid var(--fill-color);\n",
              "    border-color: transparent;\n",
              "    border-bottom-color: var(--fill-color);\n",
              "    animation:\n",
              "      spin 1s steps(1) infinite;\n",
              "  }\n",
              "\n",
              "  @keyframes spin {\n",
              "    0% {\n",
              "      border-color: transparent;\n",
              "      border-bottom-color: var(--fill-color);\n",
              "      border-left-color: var(--fill-color);\n",
              "    }\n",
              "    20% {\n",
              "      border-color: transparent;\n",
              "      border-left-color: var(--fill-color);\n",
              "      border-top-color: var(--fill-color);\n",
              "    }\n",
              "    30% {\n",
              "      border-color: transparent;\n",
              "      border-left-color: var(--fill-color);\n",
              "      border-top-color: var(--fill-color);\n",
              "      border-right-color: var(--fill-color);\n",
              "    }\n",
              "    40% {\n",
              "      border-color: transparent;\n",
              "      border-right-color: var(--fill-color);\n",
              "      border-top-color: var(--fill-color);\n",
              "    }\n",
              "    60% {\n",
              "      border-color: transparent;\n",
              "      border-right-color: var(--fill-color);\n",
              "    }\n",
              "    80% {\n",
              "      border-color: transparent;\n",
              "      border-right-color: var(--fill-color);\n",
              "      border-bottom-color: var(--fill-color);\n",
              "    }\n",
              "    90% {\n",
              "      border-color: transparent;\n",
              "      border-bottom-color: var(--fill-color);\n",
              "    }\n",
              "  }\n",
              "</style>\n",
              "\n",
              "  <script>\n",
              "    async function quickchart(key) {\n",
              "      const quickchartButtonEl =\n",
              "        document.querySelector('#' + key + ' button');\n",
              "      quickchartButtonEl.disabled = true;  // To prevent multiple clicks.\n",
              "      quickchartButtonEl.classList.add('colab-df-spinner');\n",
              "      try {\n",
              "        const charts = await google.colab.kernel.invokeFunction(\n",
              "            'suggestCharts', [key], {});\n",
              "      } catch (error) {\n",
              "        console.error('Error during call to suggestCharts:', error);\n",
              "      }\n",
              "      quickchartButtonEl.classList.remove('colab-df-spinner');\n",
              "      quickchartButtonEl.classList.add('colab-df-quickchart-complete');\n",
              "    }\n",
              "    (() => {\n",
              "      let quickchartButtonEl =\n",
              "        document.querySelector('#df-71320dcb-013b-45ae-addf-4c9ba55be344 button');\n",
              "      quickchartButtonEl.style.display =\n",
              "        google.colab.kernel.accessAllowed ? 'block' : 'none';\n",
              "    })();\n",
              "  </script>\n",
              "</div>\n",
              "    </div>\n",
              "  </div>\n"
            ]
          },
          "metadata": {},
          "execution_count": 4
        }
      ]
    },
    {
      "cell_type": "code",
      "source": [
        "df[\"special forms\"].value_counts()"
      ],
      "metadata": {
        "colab": {
          "base_uri": "https://localhost:8080/"
        },
        "id": "0pcZpYVpQdCY",
        "outputId": "18cae38a-14b0-4dc0-e1d4-ed4c97ec6241"
      },
      "execution_count": 5,
      "outputs": [
        {
          "output_type": "execute_result",
          "data": {
            "text/plain": [
              "3    77\n",
              "2    43\n",
              "1    28\n",
              "Name: special forms, dtype: int64"
            ]
          },
          "metadata": {},
          "execution_count": 5
        }
      ]
    },
    {
      "cell_type": "code",
      "source": [
        "df.info()"
      ],
      "metadata": {
        "colab": {
          "base_uri": "https://localhost:8080/"
        },
        "id": "Mz9PaYlfefjs",
        "outputId": "f76e65b8-b2b1-4343-b9fd-3dc4b0eb719f"
      },
      "execution_count": 6,
      "outputs": [
        {
          "output_type": "stream",
          "name": "stdout",
          "text": [
            "<class 'pandas.core.frame.DataFrame'>\n",
            "RangeIndex: 148 entries, 0 to 147\n",
            "Data columns (total 19 columns):\n",
            " #   Column           Non-Null Count  Dtype\n",
            "---  ------           --------------  -----\n",
            " 0   class            148 non-null    int64\n",
            " 1   lymphatics       148 non-null    int64\n",
            " 2   block of affere  148 non-null    int64\n",
            " 3   bl. of lymph. c  148 non-null    int64\n",
            " 4   bl. of lymph. s  148 non-null    int64\n",
            " 5   by pass          148 non-null    int64\n",
            " 6   extravasates     148 non-null    int64\n",
            " 7   regeneration of  148 non-null    int64\n",
            " 8   early uptake in  148 non-null    int64\n",
            " 9   lym.nodes dimin  148 non-null    int64\n",
            " 10  lym.nodes enlar  148 non-null    int64\n",
            " 11  changes in lym.  148 non-null    int64\n",
            " 12  defect in node   148 non-null    int64\n",
            " 13  changes in node  148 non-null    int64\n",
            " 14  changes in stru  148 non-null    int64\n",
            " 15  special forms    148 non-null    int64\n",
            " 16  dislocation of   148 non-null    int64\n",
            " 17  exclusion of no  148 non-null    int64\n",
            " 18  no. of nodes in  148 non-null    int64\n",
            "dtypes: int64(19)\n",
            "memory usage: 22.1 KB\n"
          ]
        }
      ]
    },
    {
      "cell_type": "code",
      "source": [
        "df.isnull().sum()"
      ],
      "metadata": {
        "colab": {
          "base_uri": "https://localhost:8080/"
        },
        "id": "zIAmpOsVej7d",
        "outputId": "7d6c0c2a-d0d2-4b97-9931-918fb9132eeb"
      },
      "execution_count": 7,
      "outputs": [
        {
          "output_type": "execute_result",
          "data": {
            "text/plain": [
              "class              0\n",
              "lymphatics         0\n",
              "block of affere    0\n",
              "bl. of lymph. c    0\n",
              "bl. of lymph. s    0\n",
              "by pass            0\n",
              "extravasates       0\n",
              "regeneration of    0\n",
              "early uptake in    0\n",
              "lym.nodes dimin    0\n",
              "lym.nodes enlar    0\n",
              "changes in lym.    0\n",
              "defect in node     0\n",
              "changes in node    0\n",
              "changes in stru    0\n",
              "special forms      0\n",
              "dislocation of     0\n",
              "exclusion of no    0\n",
              "no. of nodes in    0\n",
              "dtype: int64"
            ]
          },
          "metadata": {},
          "execution_count": 7
        }
      ]
    },
    {
      "cell_type": "code",
      "source": [
        "df[\"lymphatics\"].value_counts()"
      ],
      "metadata": {
        "colab": {
          "base_uri": "https://localhost:8080/"
        },
        "id": "dxUV0zPd_uge",
        "outputId": "b53fcc39-abc2-4f4e-e707-ac4a39d76fad"
      },
      "execution_count": 8,
      "outputs": [
        {
          "output_type": "execute_result",
          "data": {
            "text/plain": [
              "2    67\n",
              "3    46\n",
              "4    33\n",
              "1     2\n",
              "Name: lymphatics, dtype: int64"
            ]
          },
          "metadata": {},
          "execution_count": 8
        }
      ]
    },
    {
      "cell_type": "markdown",
      "source": [
        "Visualizations"
      ],
      "metadata": {
        "id": "rVRP2HsajupX"
      }
    },
    {
      "cell_type": "markdown",
      "source": [
        "Uni Variant Analysis"
      ],
      "metadata": {
        "id": "Ahy0DZ0LjyKG"
      }
    },
    {
      "cell_type": "code",
      "source": [
        "plt.pie(df['lymphatics'].value_counts(),autopct='%0.2f%%',colors=[\"#363445\", \"#48446e\", \"#5e569b\", \"#776bcd\"],labels=df['lymphatics'].value_counts().keys(),explode=[0.05,0.05,0.05,0.05])\n",
        "plt.show()"
      ],
      "metadata": {
        "colab": {
          "base_uri": "https://localhost:8080/",
          "height": 406
        },
        "id": "CMfbGJzIjtYZ",
        "outputId": "d413e271-4804-4e94-9e18-5b53e2b2c843"
      },
      "execution_count": 9,
      "outputs": [
        {
          "output_type": "display_data",
          "data": {
            "text/plain": [
              "<Figure size 640x480 with 1 Axes>"
            ],
            "image/png": "[encoded data removed]"
          },
          "metadata": {}
        }
      ]
    },
    {
      "cell_type": "code",
      "source": [
        "plt.pie(df['bl. of lymph. s'].value_counts(),autopct='%0.2f%%',colors=[\"#a57c1b\", \"#786028\"],labels=df['bl. of lymph. s'].value_counts().keys(),explode=[0.05,0.05])\n",
        "plt.show()"
      ],
      "metadata": {
        "colab": {
          "base_uri": "https://localhost:8080/",
          "height": 406
        },
        "id": "-Kq6cW0ZunzC",
        "outputId": "eb4835f7-5b9e-4b4e-fc5b-9b81e5e59bbc"
      },
      "execution_count": 10,
      "outputs": [
        {
          "output_type": "display_data",
          "data": {
            "text/plain": [
              "<Figure size 640x480 with 1 Axes>"
            ],
            "image/png": "[encoded data removed]"
          },
          "metadata": {}
        }
      ]
    },
    {
      "cell_type": "code",
      "source": [
        "sns.distplot(df['dislocation of'])"
      ],
      "metadata": {
        "colab": {
          "base_uri": "https://localhost:8080/",
          "height": 668
        },
        "id": "a1sr3nGKsQim",
        "outputId": "f1371d3c-c710-4ee5-d667-112c2501e718"
      },
      "execution_count": 11,
      "outputs": [
        {
          "output_type": "stream",
          "name": "stderr",
          "text": [
            "<ipython-input-11-bcf80d0b0c16>:1: UserWarning: \n",
            "\n",
            "`distplot` is a deprecated function and will be removed in seaborn v0.14.0.\n",
            "\n",
            "Please adapt your code to use either `displot` (a figure-level function with\n",
            "similar flexibility) or `histplot` (an axes-level function for histograms).\n",
            "\n",
            "For a guide to updating your code to use the new functions, please see\n",
            "https://gist.github.com/mwaskom/de44147ed2974457ad6372750bbe5751\n",
            "\n",
            "  sns.distplot(df['dislocation of'])\n"
          ]
        },
        {
          "output_type": "execute_result",
          "data": {
            "text/plain": [
              "<Axes: xlabel='dislocation of', ylabel='Density'>"
            ]
          },
          "metadata": {},
          "execution_count": 11
        },
        {
          "output_type": "display_data",
          "data": {
            "text/plain": [
              "<Figure size 640x480 with 1 Axes>"
            ],
            "image/png": "[encoded data removed]"
          },
          "metadata": {}
        }
      ]
    },
    {
      "cell_type": "code",
      "source": [
        "plt.figure(figsize=(3,3))\n",
        "sns.displot(df['dislocation of'])"
      ],
      "metadata": {
        "colab": {
          "base_uri": "https://localhost:8080/",
          "height": 543
        },
        "id": "OpIGn9ywtc5D",
        "outputId": "341bdbe9-102b-40fc-c7cf-3b45e0503030"
      },
      "execution_count": 12,
      "outputs": [
        {
          "output_type": "execute_result",
          "data": {
            "text/plain": [
              "<seaborn.axisgrid.FacetGrid at 0x7b55dfe2a980>"
            ]
          },
          "metadata": {},
          "execution_count": 12
        },
        {
          "output_type": "display_data",
          "data": {
            "text/plain": [
              "<Figure size 300x300 with 0 Axes>"
            ]
          },
          "metadata": {}
        },
        {
          "output_type": "display_data",
          "data": {
            "text/plain": [
              "<Figure size 500x500 with 1 Axes>"
            ],
            "image/png": "[encoded data removed]"
          },
          "metadata": {}
        }
      ]
    },
    {
      "cell_type": "markdown",
      "source": [
        "Bivariant Analysis"
      ],
      "metadata": {
        "id": "CU50loQexyN3"
      }
    },
    {
      "cell_type": "code",
      "source": [
        "sns.barplot(y='block of affere',x='changes in stru',data=df,palette='viridis')"
      ],
      "metadata": {
        "colab": {
          "base_uri": "https://localhost:8080/",
          "height": 467
        },
        "id": "rF4ishoSx3D2",
        "outputId": "9b982409-7751-404b-9679-fff60c8eb55b"
      },
      "execution_count": 13,
      "outputs": [
        {
          "output_type": "execute_result",
          "data": {
            "text/plain": [
              "<Axes: xlabel='changes in stru', ylabel='block of affere'>"
            ]
          },
          "metadata": {},
          "execution_count": 13
        },
        {
          "output_type": "display_data",
          "data": {
            "text/plain": [
              "<Figure size 640x480 with 1 Axes>"
            ],
            "image/png": "[encoded data removed]"
          },
          "metadata": {}
        }
      ]
    },
    {
      "cell_type": "code",
      "source": [
        "sns.scatterplot(x='changes in stru',y='by pass',data=df,hue='regeneration of')"
      ],
      "metadata": {
        "colab": {
          "base_uri": "https://localhost:8080/",
          "height": 467
        },
        "id": "B7jXQ3W0zzw1",
        "outputId": "2d44b586-8e33-4348-cdfb-a231a2e639e5"
      },
      "execution_count": 14,
      "outputs": [
        {
          "output_type": "execute_result",
          "data": {
            "text/plain": [
              "<Axes: xlabel='changes in stru', ylabel='by pass'>"
            ]
          },
          "metadata": {},
          "execution_count": 14
        },
        {
          "output_type": "display_data",
          "data": {
            "text/plain": [
              "<Figure size 640x480 with 1 Axes>"
            ],
            "image/png": "[encoded data removed]"
          },
          "metadata": {}
        }
      ]
    },
    {
      "cell_type": "code",
      "source": [
        "sns.lineplot(x='changes in stru',y='by pass',data=df,color='brown')"
      ],
      "metadata": {
        "colab": {
          "base_uri": "https://localhost:8080/",
          "height": 473
        },
        "id": "jiB-wVIY7bZb",
        "outputId": "d8bb0a90-1172-4bcf-a40b-8906c47728ad"
      },
      "execution_count": 15,
      "outputs": [
        {
          "output_type": "execute_result",
          "data": {
            "text/plain": [
              "<Axes: xlabel='changes in stru', ylabel='by pass'>"
            ]
          },
          "metadata": {},
          "execution_count": 15
        },
        {
          "output_type": "display_data",
          "data": {
            "text/plain": [
              "<Figure size 640x480 with 1 Axes>"
            ],
            "image/png": "[encoded data removed]"
          },
          "metadata": {}
        }
      ]
    },
    {
      "cell_type": "markdown",
      "source": [
        "Multivariant Analysis"
      ],
      "metadata": {
        "id": "pU1Bw0nm8Fzb"
      }
    },
    {
      "cell_type": "code",
      "source": [
        "df.corr()"
      ],
      "metadata": {
        "colab": {
          "base_uri": "https://localhost:8080/",
          "height": 960
        },
        "id": "oig_yNYUA8Ad",
        "outputId": "7ff73a55-74d4-42b1-80b7-67502b393bbf"
      },
      "execution_count": 16,
      "outputs": [
        {
          "output_type": "execute_result",
          "data": {
            "text/plain": [
              "                    class  lymphatics  block of affere  bl. of lymph. c  \\\n",
              "class            1.000000    0.147550        -0.358447        -0.054812   \n",
              "lymphatics       0.147550    1.000000         0.084322         0.058310   \n",
              "block of affere -0.358447    0.084322         1.000000         0.414163   \n",
              "bl. of lymph. c -0.054812    0.058310         0.414163         1.000000   \n",
              "bl. of lymph. s  0.212651    0.109285         0.199896         0.482650   \n",
              "by pass          0.046761    0.217326         0.350223         0.565957   \n",
              "extravasates     0.118952    0.136961         0.338391         0.348904   \n",
              "regeneration of  0.397742    0.084832         0.024882         0.300160   \n",
              "early uptake in  0.255697    0.085327         0.011253         0.028347   \n",
              "lym.nodes dimin  0.411953    0.087863        -0.086410         0.080621   \n",
              "lym.nodes enlar  0.258756    0.208602         0.019828         0.057554   \n",
              "changes in lym. -0.181180    0.119311         0.295450         0.051258   \n",
              "defect in node   0.126130    0.150614         0.106347         0.100094   \n",
              "changes in node  0.033030    0.202660         0.198146         0.119139   \n",
              "changes in stru  0.291371   -0.079649        -0.067398         0.068744   \n",
              "special forms    0.377557    0.102592         0.014942         0.008984   \n",
              "dislocation of   0.215118    0.230786        -0.037284         0.104504   \n",
              "exclusion of no  0.232622    0.082347         0.039273         0.150359   \n",
              "no. of nodes in  0.544329    0.121657        -0.088141         0.199805   \n",
              "\n",
              "                 bl. of lymph. s   by pass  extravasates  regeneration of  \\\n",
              "class                   0.212651  0.046761      0.118952         0.397742   \n",
              "lymphatics              0.109285  0.217326      0.136961         0.084832   \n",
              "block of affere         0.199896  0.350223      0.338391         0.024882   \n",
              "bl. of lymph. c         0.482650  0.565957      0.348904         0.300160   \n",
              "bl. of lymph. s         1.000000  0.393004      0.219822         0.447273   \n",
              "by pass                 0.393004  1.000000      0.433337         0.412066   \n",
              "extravasates            0.219822  0.433337      1.000000         0.157891   \n",
              "regeneration of         0.447273  0.412066      0.157891         1.000000   \n",
              "early uptake in         0.005647  0.024212      0.038359        -0.060487   \n",
              "lym.nodes dimin         0.262217  0.242446      0.105490         0.550613   \n",
              "lym.nodes enlar         0.064485  0.056153      0.186838         0.008726   \n",
              "changes in lym.         0.011771  0.101449      0.193305        -0.189464   \n",
              "defect in node          0.119046  0.204120      0.195745         0.072724   \n",
              "changes in node         0.099426  0.084089      0.065788        -0.001437   \n",
              "changes in stru         0.139536 -0.049369     -0.076293         0.047740   \n",
              "special forms           0.069145  0.103318      0.194895         0.128225   \n",
              "dislocation of          0.159152  0.171884      0.095376         0.021535   \n",
              "exclusion of no         0.114690  0.137024      0.189623         0.072411   \n",
              "no. of nodes in         0.398857  0.293236      0.234184         0.425165   \n",
              "\n",
              "                 early uptake in  lym.nodes dimin  lym.nodes enlar  \\\n",
              "class                   0.255697         0.411953         0.258756   \n",
              "lymphatics              0.085327         0.087863         0.208602   \n",
              "block of affere         0.011253        -0.086410         0.019828   \n",
              "bl. of lymph. c         0.028347         0.080621         0.057554   \n",
              "bl. of lymph. s         0.005647         0.262217         0.064485   \n",
              "by pass                 0.024212         0.242446         0.056153   \n",
              "extravasates            0.038359         0.105490         0.186838   \n",
              "regeneration of        -0.060487         0.550613         0.008726   \n",
              "early uptake in         1.000000        -0.157259         0.422155   \n",
              "lym.nodes dimin        -0.157259         1.000000        -0.317841   \n",
              "lym.nodes enlar         0.422155        -0.317841         1.000000   \n",
              "changes in lym.         0.170705        -0.327835         0.430570   \n",
              "defect in node          0.008772        -0.017389         0.293712   \n",
              "changes in node         0.163128        -0.263035         0.295818   \n",
              "changes in stru         0.126469         0.090464         0.153027   \n",
              "special forms           0.316225         0.000566         0.448074   \n",
              "dislocation of          0.254264        -0.089577         0.302380   \n",
              "exclusion of no         0.210115        -0.006103         0.232245   \n",
              "no. of nodes in         0.291669         0.257242         0.443495   \n",
              "\n",
              "                 changes in lym.  defect in node  changes in node  \\\n",
              "class                  -0.181180        0.126130         0.033030   \n",
              "lymphatics              0.119311        0.150614         0.202660   \n",
              "block of affere         0.295450        0.106347         0.198146   \n",
              "bl. of lymph. c         0.051258        0.100094         0.119139   \n",
              "bl. of lymph. s         0.011771        0.119046         0.099426   \n",
              "by pass                 0.101449        0.204120         0.084089   \n",
              "extravasates            0.193305        0.195745         0.065788   \n",
              "regeneration of        -0.189464        0.072724        -0.001437   \n",
              "early uptake in         0.170705        0.008772         0.163128   \n",
              "lym.nodes dimin        -0.327835       -0.017389        -0.263035   \n",
              "lym.nodes enlar         0.430570        0.293712         0.295818   \n",
              "changes in lym.         1.000000        0.289397         0.275912   \n",
              "defect in node          0.289397        1.000000         0.267585   \n",
              "changes in node         0.275912        0.267585         1.000000   \n",
              "changes in stru        -0.009684        0.148224         0.058684   \n",
              "special forms           0.299831        0.309048         0.282676   \n",
              "dislocation of          0.124406        0.285772         0.135522   \n",
              "exclusion of no         0.010498        0.306098         0.151461   \n",
              "no. of nodes in         0.066102        0.160417         0.034870   \n",
              "\n",
              "                 changes in stru  special forms  dislocation of  \\\n",
              "class                   0.291371       0.377557        0.215118   \n",
              "lymphatics             -0.079649       0.102592        0.230786   \n",
              "block of affere        -0.067398       0.014942       -0.037284   \n",
              "bl. of lymph. c         0.068744       0.008984        0.104504   \n",
              "bl. of lymph. s         0.139536       0.069145        0.159152   \n",
              "by pass                -0.049369       0.103318        0.171884   \n",
              "extravasates           -0.076293       0.194895        0.095376   \n",
              "regeneration of         0.047740       0.128225        0.021535   \n",
              "early uptake in         0.126469       0.316225        0.254264   \n",
              "lym.nodes dimin         0.090464       0.000566       -0.089577   \n",
              "lym.nodes enlar         0.153027       0.448074        0.302380   \n",
              "changes in lym.        -0.009684       0.299831        0.124406   \n",
              "defect in node          0.148224       0.309048        0.285772   \n",
              "changes in node         0.058684       0.282676        0.135522   \n",
              "changes in stru         1.000000       0.166922        0.025157   \n",
              "special forms           0.166922       1.000000        0.102445   \n",
              "dislocation of          0.025157       0.102445        1.000000   \n",
              "exclusion of no         0.273947       0.262919        0.369569   \n",
              "no. of nodes in         0.157477       0.461958        0.226241   \n",
              "\n",
              "                 exclusion of no  no. of nodes in  \n",
              "class                   0.232622         0.544329  \n",
              "lymphatics              0.082347         0.121657  \n",
              "block of affere         0.039273        -0.088141  \n",
              "bl. of lymph. c         0.150359         0.199805  \n",
              "bl. of lymph. s         0.114690         0.398857  \n",
              "by pass                 0.137024         0.293236  \n",
              "extravasates            0.189623         0.234184  \n",
              "regeneration of         0.072411         0.425165  \n",
              "early uptake in         0.210115         0.291669  \n",
              "lym.nodes dimin        -0.006103         0.257242  \n",
              "lym.nodes enlar         0.232245         0.443495  \n",
              "changes in lym.         0.010498         0.066102  \n",
              "defect in node          0.306098         0.160417  \n",
              "changes in node         0.151461         0.034870  \n",
              "changes in stru         0.273947         0.157477  \n",
              "special forms           0.262919         0.461958  \n",
              "dislocation of          0.369569         0.226241  \n",
              "exclusion of no         1.000000         0.337953  \n",
              "no. of nodes in         0.337953         1.000000  "
            ],
            "text/html": [
              "\n",
              "  <div id=\"df-9115d6b9-0ca7-4bf9-9f52-66ff2e3c2dda\" class=\"colab-df-container\">\n",
              "    <div>\n",
              "<style scoped>\n",
              "    .dataframe tbody tr th:only-of-type {\n",
              "        vertical-align: middle;\n",
              "    }\n",
              "\n",
              "    .dataframe tbody tr th {\n",
              "        vertical-align: top;\n",
              "    }\n",
              "\n",
              "    .dataframe thead th {\n",
              "        text-align: right;\n",
              "    }\n",
              "</style>\n",
              "<table border=\"1\" class=\"dataframe\">\n",
              "  <thead>\n",
              "    <tr style=\"text-align: right;\">\n",
              "      <th></th>\n",
              "      <th>class</th>\n",
              "      <th>lymphatics</th>\n",
              "      <th>block of affere</th>\n",
              "      <th>bl. of lymph. c</th>\n",
              "      <th>bl. of lymph. s</th>\n",
              "      <th>by pass</th>\n",
              "      <th>extravasates</th>\n",
              "      <th>regeneration of</th>\n",
              "      <th>early uptake in</th>\n",
              "      <th>lym.nodes dimin</th>\n",
              "      <th>lym.nodes enlar</th>\n",
              "      <th>changes in lym.</th>\n",
              "      <th>defect in node</th>\n",
              "      <th>changes in node</th>\n",
              "      <th>changes in stru</th>\n",
              "      <th>special forms</th>\n",
              "      <th>dislocation of</th>\n",
              "      <th>exclusion of no</th>\n",
              "      <th>no. of nodes in</th>\n",
              "    </tr>\n",
              "  </thead>\n",
              "  <tbody>\n",
              "    <tr>\n",
              "      <th>class</th>\n",
              "      <td>1.000000</td>\n",
              "      <td>0.147550</td>\n",
              "      <td>-0.358447</td>\n",
              "      <td>-0.054812</td>\n",
              "      <td>0.212651</td>\n",
              "      <td>0.046761</td>\n",
              "      <td>0.118952</td>\n",
              "      <td>0.397742</td>\n",
              "      <td>0.255697</td>\n",
              "      <td>0.411953</td>\n",
              "      <td>0.258756</td>\n",
              "      <td>-0.181180</td>\n",
              "      <td>0.126130</td>\n",
              "      <td>0.033030</td>\n",
              "      <td>0.291371</td>\n",
              "      <td>0.377557</td>\n",
              "      <td>0.215118</td>\n",
              "      <td>0.232622</td>\n",
              "      <td>0.544329</td>\n",
              "    </tr>\n",
              "    <tr>\n",
              "      <th>lymphatics</th>\n",
              "      <td>0.147550</td>\n",
              "      <td>1.000000</td>\n",
              "      <td>0.084322</td>\n",
              "      <td>0.058310</td>\n",
              "      <td>0.109285</td>\n",
              "      <td>0.217326</td>\n",
              "      <td>0.136961</td>\n",
              "      <td>0.084832</td>\n",
              "      <td>0.085327</td>\n",
              "      <td>0.087863</td>\n",
              "      <td>0.208602</td>\n",
              "      <td>0.119311</td>\n",
              "      <td>0.150614</td>\n",
              "      <td>0.202660</td>\n",
              "      <td>-0.079649</td>\n",
              "      <td>0.102592</td>\n",
              "      <td>0.230786</td>\n",
              "      <td>0.082347</td>\n",
              "      <td>0.121657</td>\n",
              "    </tr>\n",
              "    <tr>\n",
              "      <th>block of affere</th>\n",
              "      <td>-0.358447</td>\n",
              "      <td>0.084322</td>\n",
              "      <td>1.000000</td>\n",
              "      <td>0.414163</td>\n",
              "      <td>0.199896</td>\n",
              "      <td>0.350223</td>\n",
              "      <td>0.338391</td>\n",
              "      <td>0.024882</td>\n",
              "      <td>0.011253</td>\n",
              "      <td>-0.086410</td>\n",
              "      <td>0.019828</td>\n",
              "      <td>0.295450</td>\n",
              "      <td>0.106347</td>\n",
              "      <td>0.198146</td>\n",
              "      <td>-0.067398</td>\n",
              "      <td>0.014942</td>\n",
              "      <td>-0.037284</td>\n",
              "      <td>0.039273</td>\n",
              "      <td>-0.088141</td>\n",
              "    </tr>\n",
              "    <tr>\n",
              "      <th>bl. of lymph. c</th>\n",
              "      <td>-0.054812</td>\n",
              "      <td>0.058310</td>\n",
              "      <td>0.414163</td>\n",
              "      <td>1.000000</td>\n",
              "      <td>0.482650</td>\n",
              "      <td>0.565957</td>\n",
              "      <td>0.348904</td>\n",
              "      <td>0.300160</td>\n",
              "      <td>0.028347</td>\n",
              "      <td>0.080621</td>\n",
              "      <td>0.057554</td>\n",
              "      <td>0.051258</td>\n",
              "      <td>0.100094</td>\n",
              "      <td>0.119139</td>\n",
              "      <td>0.068744</td>\n",
              "      <td>0.008984</td>\n",
              "      <td>0.104504</td>\n",
              "      <td>0.150359</td>\n",
              "      <td>0.199805</td>\n",
              "    </tr>\n",
              "    <tr>\n",
              "      <th>bl. of lymph. s</th>\n",
              "      <td>0.212651</td>\n",
              "      <td>0.109285</td>\n",
              "      <td>0.199896</td>\n",
              "      <td>0.482650</td>\n",
              "      <td>1.000000</td>\n",
              "      <td>0.393004</td>\n",
              "      <td>0.219822</td>\n",
              "      <td>0.447273</td>\n",
              "      <td>0.005647</td>\n",
              "      <td>0.262217</td>\n",
              "      <td>0.064485</td>\n",
              "      <td>0.011771</td>\n",
              "      <td>0.119046</td>\n",
              "      <td>0.099426</td>\n",
              "      <td>0.139536</td>\n",
              "      <td>0.069145</td>\n",
              "      <td>0.159152</td>\n",
              "      <td>0.114690</td>\n",
              "      <td>0.398857</td>\n",
              "    </tr>\n",
              "    <tr>\n",
              "      <th>by pass</th>\n",
              "      <td>0.046761</td>\n",
              "      <td>0.217326</td>\n",
              "      <td>0.350223</td>\n",
              "      <td>0.565957</td>\n",
              "      <td>0.393004</td>\n",
              "      <td>1.000000</td>\n",
              "      <td>0.433337</td>\n",
              "      <td>0.412066</td>\n",
              "      <td>0.024212</td>\n",
              "      <td>0.242446</td>\n",
              "      <td>0.056153</td>\n",
              "      <td>0.101449</td>\n",
              "      <td>0.204120</td>\n",
              "      <td>0.084089</td>\n",
              "      <td>-0.049369</td>\n",
              "      <td>0.103318</td>\n",
              "      <td>0.171884</td>\n",
              "      <td>0.137024</td>\n",
              "      <td>0.293236</td>\n",
              "    </tr>\n",
              "    <tr>\n",
              "      <th>extravasates</th>\n",
              "      <td>0.118952</td>\n",
              "      <td>0.136961</td>\n",
              "      <td>0.338391</td>\n",
              "      <td>0.348904</td>\n",
              "      <td>0.219822</td>\n",
              "      <td>0.433337</td>\n",
              "      <td>1.000000</td>\n",
              "      <td>0.157891</td>\n",
              "      <td>0.038359</td>\n",
              "      <td>0.105490</td>\n",
              "      <td>0.186838</td>\n",
              "      <td>0.193305</td>\n",
              "      <td>0.195745</td>\n",
              "      <td>0.065788</td>\n",
              "      <td>-0.076293</td>\n",
              "      <td>0.194895</td>\n",
              "      <td>0.095376</td>\n",
              "      <td>0.189623</td>\n",
              "      <td>0.234184</td>\n",
              "    </tr>\n",
              "    <tr>\n",
              "      <th>regeneration of</th>\n",
              "      <td>0.397742</td>\n",
              "      <td>0.084832</td>\n",
              "      <td>0.024882</td>\n",
              "      <td>0.300160</td>\n",
              "      <td>0.447273</td>\n",
              "      <td>0.412066</td>\n",
              "      <td>0.157891</td>\n",
              "      <td>1.000000</td>\n",
              "      <td>-0.060487</td>\n",
              "      <td>0.550613</td>\n",
              "      <td>0.008726</td>\n",
              "      <td>-0.189464</td>\n",
              "      <td>0.072724</td>\n",
              "      <td>-0.001437</td>\n",
              "      <td>0.047740</td>\n",
              "      <td>0.128225</td>\n",
              "      <td>0.021535</td>\n",
              "      <td>0.072411</td>\n",
              "      <td>0.425165</td>\n",
              "    </tr>\n",
              "    <tr>\n",
              "      <th>early uptake in</th>\n",
              "      <td>0.255697</td>\n",
              "      <td>0.085327</td>\n",
              "      <td>0.011253</td>\n",
              "      <td>0.028347</td>\n",
              "      <td>0.005647</td>\n",
              "      <td>0.024212</td>\n",
              "      <td>0.038359</td>\n",
              "      <td>-0.060487</td>\n",
              "      <td>1.000000</td>\n",
              "      <td>-0.157259</td>\n",
              "      <td>0.422155</td>\n",
              "      <td>0.170705</td>\n",
              "      <td>0.008772</td>\n",
              "      <td>0.163128</td>\n",
              "      <td>0.126469</td>\n",
              "      <td>0.316225</td>\n",
              "      <td>0.254264</td>\n",
              "      <td>0.210115</td>\n",
              "      <td>0.291669</td>\n",
              "    </tr>\n",
              "    <tr>\n",
              "      <th>lym.nodes dimin</th>\n",
              "      <td>0.411953</td>\n",
              "      <td>0.087863</td>\n",
              "      <td>-0.086410</td>\n",
              "      <td>0.080621</td>\n",
              "      <td>0.262217</td>\n",
              "      <td>0.242446</td>\n",
              "      <td>0.105490</td>\n",
              "      <td>0.550613</td>\n",
              "      <td>-0.157259</td>\n",
              "      <td>1.000000</td>\n",
              "      <td>-0.317841</td>\n",
              "      <td>-0.327835</td>\n",
              "      <td>-0.017389</td>\n",
              "      <td>-0.263035</td>\n",
              "      <td>0.090464</td>\n",
              "      <td>0.000566</td>\n",
              "      <td>-0.089577</td>\n",
              "      <td>-0.006103</td>\n",
              "      <td>0.257242</td>\n",
              "    </tr>\n",
              "    <tr>\n",
              "      <th>lym.nodes enlar</th>\n",
              "      <td>0.258756</td>\n",
              "      <td>0.208602</td>\n",
              "      <td>0.019828</td>\n",
              "      <td>0.057554</td>\n",
              "      <td>0.064485</td>\n",
              "      <td>0.056153</td>\n",
              "      <td>0.186838</td>\n",
              "      <td>0.008726</td>\n",
              "      <td>0.422155</td>\n",
              "      <td>-0.317841</td>\n",
              "      <td>1.000000</td>\n",
              "      <td>0.430570</td>\n",
              "      <td>0.293712</td>\n",
              "      <td>0.295818</td>\n",
              "      <td>0.153027</td>\n",
              "      <td>0.448074</td>\n",
              "      <td>0.302380</td>\n",
              "      <td>0.232245</td>\n",
              "      <td>0.443495</td>\n",
              "    </tr>\n",
              "    <tr>\n",
              "      <th>changes in lym.</th>\n",
              "      <td>-0.181180</td>\n",
              "      <td>0.119311</td>\n",
              "      <td>0.295450</td>\n",
              "      <td>0.051258</td>\n",
              "      <td>0.011771</td>\n",
              "      <td>0.101449</td>\n",
              "      <td>0.193305</td>\n",
              "      <td>-0.189464</td>\n",
              "      <td>0.170705</td>\n",
              "      <td>-0.327835</td>\n",
              "      <td>0.430570</td>\n",
              "      <td>1.000000</td>\n",
              "      <td>0.289397</td>\n",
              "      <td>0.275912</td>\n",
              "      <td>-0.009684</td>\n",
              "      <td>0.299831</td>\n",
              "      <td>0.124406</td>\n",
              "      <td>0.010498</td>\n",
              "      <td>0.066102</td>\n",
              "    </tr>\n",
              "    <tr>\n",
              "      <th>defect in node</th>\n",
              "      <td>0.126130</td>\n",
              "      <td>0.150614</td>\n",
              "      <td>0.106347</td>\n",
              "      <td>0.100094</td>\n",
              "      <td>0.119046</td>\n",
              "      <td>0.204120</td>\n",
              "      <td>0.195745</td>\n",
              "      <td>0.072724</td>\n",
              "      <td>0.008772</td>\n",
              "      <td>-0.017389</td>\n",
              "      <td>0.293712</td>\n",
              "      <td>0.289397</td>\n",
              "      <td>1.000000</td>\n",
              "      <td>0.267585</td>\n",
              "      <td>0.148224</td>\n",
              "      <td>0.309048</td>\n",
              "      <td>0.285772</td>\n",
              "      <td>0.306098</td>\n",
              "      <td>0.160417</td>\n",
              "    </tr>\n",
              "    <tr>\n",
              "      <th>changes in node</th>\n",
              "      <td>0.033030</td>\n",
              "      <td>0.202660</td>\n",
              "      <td>0.198146</td>\n",
              "      <td>0.119139</td>\n",
              "      <td>0.099426</td>\n",
              "      <td>0.084089</td>\n",
              "      <td>0.065788</td>\n",
              "      <td>-0.001437</td>\n",
              "      <td>0.163128</td>\n",
              "      <td>-0.263035</td>\n",
              "      <td>0.295818</td>\n",
              "      <td>0.275912</td>\n",
              "      <td>0.267585</td>\n",
              "      <td>1.000000</td>\n",
              "      <td>0.058684</td>\n",
              "      <td>0.282676</td>\n",
              "      <td>0.135522</td>\n",
              "      <td>0.151461</td>\n",
              "      <td>0.034870</td>\n",
              "    </tr>\n",
              "    <tr>\n",
              "      <th>changes in stru</th>\n",
              "      <td>0.291371</td>\n",
              "      <td>-0.079649</td>\n",
              "      <td>-0.067398</td>\n",
              "      <td>0.068744</td>\n",
              "      <td>0.139536</td>\n",
              "      <td>-0.049369</td>\n",
              "      <td>-0.076293</td>\n",
              "      <td>0.047740</td>\n",
              "      <td>0.126469</td>\n",
              "      <td>0.090464</td>\n",
              "      <td>0.153027</td>\n",
              "      <td>-0.009684</td>\n",
              "      <td>0.148224</td>\n",
              "      <td>0.058684</td>\n",
              "      <td>1.000000</td>\n",
              "      <td>0.166922</td>\n",
              "      <td>0.025157</td>\n",
              "      <td>0.273947</td>\n",
              "      <td>0.157477</td>\n",
              "    </tr>\n",
              "    <tr>\n",
              "      <th>special forms</th>\n",
              "      <td>0.377557</td>\n",
              "      <td>0.102592</td>\n",
              "      <td>0.014942</td>\n",
              "      <td>0.008984</td>\n",
              "      <td>0.069145</td>\n",
              "      <td>0.103318</td>\n",
              "      <td>0.194895</td>\n",
              "      <td>0.128225</td>\n",
              "      <td>0.316225</td>\n",
              "      <td>0.000566</td>\n",
              "      <td>0.448074</td>\n",
              "      <td>0.299831</td>\n",
              "      <td>0.309048</td>\n",
              "      <td>0.282676</td>\n",
              "      <td>0.166922</td>\n",
              "      <td>1.000000</td>\n",
              "      <td>0.102445</td>\n",
              "      <td>0.262919</td>\n",
              "      <td>0.461958</td>\n",
              "    </tr>\n",
              "    <tr>\n",
              "      <th>dislocation of</th>\n",
              "      <td>0.215118</td>\n",
              "      <td>0.230786</td>\n",
              "      <td>-0.037284</td>\n",
              "      <td>0.104504</td>\n",
              "      <td>0.159152</td>\n",
              "      <td>0.171884</td>\n",
              "      <td>0.095376</td>\n",
              "      <td>0.021535</td>\n",
              "      <td>0.254264</td>\n",
              "      <td>-0.089577</td>\n",
              "      <td>0.302380</td>\n",
              "      <td>0.124406</td>\n",
              "      <td>0.285772</td>\n",
              "      <td>0.135522</td>\n",
              "      <td>0.025157</td>\n",
              "      <td>0.102445</td>\n",
              "      <td>1.000000</td>\n",
              "      <td>0.369569</td>\n",
              "      <td>0.226241</td>\n",
              "    </tr>\n",
              "    <tr>\n",
              "      <th>exclusion of no</th>\n",
              "      <td>0.232622</td>\n",
              "      <td>0.082347</td>\n",
              "      <td>0.039273</td>\n",
              "      <td>0.150359</td>\n",
              "      <td>0.114690</td>\n",
              "      <td>0.137024</td>\n",
              "      <td>0.189623</td>\n",
              "      <td>0.072411</td>\n",
              "      <td>0.210115</td>\n",
              "      <td>-0.006103</td>\n",
              "      <td>0.232245</td>\n",
              "      <td>0.010498</td>\n",
              "      <td>0.306098</td>\n",
              "      <td>0.151461</td>\n",
              "      <td>0.273947</td>\n",
              "      <td>0.262919</td>\n",
              "      <td>0.369569</td>\n",
              "      <td>1.000000</td>\n",
              "      <td>0.337953</td>\n",
              "    </tr>\n",
              "    <tr>\n",
              "      <th>no. of nodes in</th>\n",
              "      <td>0.544329</td>\n",
              "      <td>0.121657</td>\n",
              "      <td>-0.088141</td>\n",
              "      <td>0.199805</td>\n",
              "      <td>0.398857</td>\n",
              "      <td>0.293236</td>\n",
              "      <td>0.234184</td>\n",
              "      <td>0.425165</td>\n",
              "      <td>0.291669</td>\n",
              "      <td>0.257242</td>\n",
              "      <td>0.443495</td>\n",
              "      <td>0.066102</td>\n",
              "      <td>0.160417</td>\n",
              "      <td>0.034870</td>\n",
              "      <td>0.157477</td>\n",
              "      <td>0.461958</td>\n",
              "      <td>0.226241</td>\n",
              "      <td>0.337953</td>\n",
              "      <td>1.000000</td>\n",
              "    </tr>\n",
              "  </tbody>\n",
              "</table>\n",
              "</div>\n",
              "    <div class=\"colab-df-buttons\">\n",
              "\n",
              "  <div class=\"colab-df-container\">\n",
              "    <button class=\"colab-df-convert\" onclick=\"convertToInteractive('df-9115d6b9-0ca7-4bf9-9f52-66ff2e3c2dda')\"\n",
              "            title=\"Convert this dataframe to an interactive table.\"\n",
              "            style=\"display:none;\">\n",
              "\n",
              "  <svg xmlns=\"http://www.w3.org/2000/svg\" height=\"24px\" viewBox=\"0 -960 960 960\">\n",
              "    <path d=\"M120-120v-720h720v720H120Zm60-500h600v-160H180v160Zm220 220h160v-160H400v160Zm0 220h160v-160H400v160ZM180-400h160v-160H180v160Zm440 0h160v-160H620v160ZM180-180h160v-160H180v160Zm440 0h160v-160H620v160Z\"/>\n",
              "  </svg>\n",
              "    </button>\n",
              "\n",
              "  <style>\n",
              "    .colab-df-container {\n",
              "      display:flex;\n",
              "      gap: 12px;\n",
              "    }\n",
              "\n",
              "    .colab-df-convert {\n",
              "      background-color: #E8F0FE;\n",
              "      border: none;\n",
              "      border-radius: 50%;\n",
              "      cursor: pointer;\n",
              "      display: none;\n",
              "      fill: #1967D2;\n",
              "      height: 32px;\n",
              "      padding: 0 0 0 0;\n",
              "      width: 32px;\n",
              "    }\n",
              "\n",
              "    .colab-df-convert:hover {\n",
              "      background-color: #E2EBFA;\n",
              "      box-shadow: 0px 1px 2px rgba(60, 64, 67, 0.3), 0px 1px 3px 1px rgba(60, 64, 67, 0.15);\n",
              "      fill: #174EA6;\n",
              "    }\n",
              "\n",
              "    .colab-df-buttons div {\n",
              "      margin-bottom: 4px;\n",
              "    }\n",
              "\n",
              "    [theme=dark] .colab-df-convert {\n",
              "      background-color: #3B4455;\n",
              "      fill: #D2E3FC;\n",
              "    }\n",
              "\n",
              "    [theme=dark] .colab-df-convert:hover {\n",
              "      background-color: #434B5C;\n",
              "      box-shadow: 0px 1px 3px 1px rgba(0, 0, 0, 0.15);\n",
              "      filter: drop-shadow(0px 1px 2px rgba(0, 0, 0, 0.3));\n",
              "      fill: #FFFFFF;\n",
              "    }\n",
              "  </style>\n",
              "\n",
              "    <script>\n",
              "      const buttonEl =\n",
              "        document.querySelector('#df-9115d6b9-0ca7-4bf9-9f52-66ff2e3c2dda button.colab-df-convert');\n",
              "      buttonEl.style.display =\n",
              "        google.colab.kernel.accessAllowed ? 'block' : 'none';\n",
              "\n",
              "      async function convertToInteractive(key) {\n",
              "        const element = document.querySelector('#df-9115d6b9-0ca7-4bf9-9f52-66ff2e3c2dda');\n",
              "        const dataTable =\n",
              "          await google.colab.kernel.invokeFunction('convertToInteractive',\n",
              "                                                    [key], {});\n",
              "        if (!dataTable) return;\n",
              "\n",
              "        const docLinkHtml = 'Like what you see? Visit the ' +\n",
              "          '<a target=\"_blank\" href=https://colab.research.google.com/notebooks/data_table.ipynb>data table notebook</a>'\n",
              "          + ' to learn more about interactive tables.';\n",
              "        element.innerHTML = '';\n",
              "        dataTable['output_type'] = 'display_data';\n",
              "        await google.colab.output.renderOutput(dataTable, element);\n",
              "        const docLink = document.createElement('div');\n",
              "        docLink.innerHTML = docLinkHtml;\n",
              "        element.appendChild(docLink);\n",
              "      }\n",
              "    </script>\n",
              "  </div>\n",
              "\n",
              "\n",
              "<div id=\"df-e35acdf8-033d-4c42-8d6b-320afddb1c30\">\n",
              "  <button class=\"colab-df-quickchart\" onclick=\"quickchart('df-e35acdf8-033d-4c42-8d6b-320afddb1c30')\"\n",
              "            title=\"Suggest charts\"\n",
              "            style=\"display:none;\">\n",
              "\n",
              "<svg xmlns=\"http://www.w3.org/2000/svg\" height=\"24px\"viewBox=\"0 0 24 24\"\n",
              "     width=\"24px\">\n",
              "    <g>\n",
              "        <path d=\"M19 3H5c-1.1 0-2 .9-2 2v14c0 1.1.9 2 2 2h14c1.1 0 2-.9 2-2V5c0-1.1-.9-2-2-2zM9 17H7v-7h2v7zm4 0h-2V7h2v10zm4 0h-2v-4h2v4z\"/>\n",
              "    </g>\n",
              "</svg>\n",
              "  </button>\n",
              "\n",
              "<style>\n",
              "  .colab-df-quickchart {\n",
              "      --bg-color: #E8F0FE;\n",
              "      --fill-color: #1967D2;\n",
              "      --hover-bg-color: #E2EBFA;\n",
              "      --hover-fill-color: #174EA6;\n",
              "      --disabled-fill-color: #AAA;\n",
              "      --disabled-bg-color: #DDD;\n",
              "  }\n",
              "\n",
              "  [theme=dark] .colab-df-quickchart {\n",
              "      --bg-color: #3B4455;\n",
              "      --fill-color: #D2E3FC;\n",
              "      --hover-bg-color: #434B5C;\n",
              "      --hover-fill-color: #FFFFFF;\n",
              "      --disabled-bg-color: #3B4455;\n",
              "      --disabled-fill-color: #666;\n",
              "  }\n",
              "\n",
              "  .colab-df-quickchart {\n",
              "    background-color: var(--bg-color);\n",
              "    border: none;\n",
              "    border-radius: 50%;\n",
              "    cursor: pointer;\n",
              "    display: none;\n",
              "    fill: var(--fill-color);\n",
              "    height: 32px;\n",
              "    padding: 0;\n",
              "    width: 32px;\n",
              "  }\n",
              "\n",
              "  .colab-df-quickchart:hover {\n",
              "    background-color: var(--hover-bg-color);\n",
              "    box-shadow: 0 1px 2px rgba(60, 64, 67, 0.3), 0 1px 3px 1px rgba(60, 64, 67, 0.15);\n",
              "    fill: var(--button-hover-fill-color);\n",
              "  }\n",
              "\n",
              "  .colab-df-quickchart-complete:disabled,\n",
              "  .colab-df-quickchart-complete:disabled:hover {\n",
              "    background-color: var(--disabled-bg-color);\n",
              "    fill: var(--disabled-fill-color);\n",
              "    box-shadow: none;\n",
              "  }\n",
              "\n",
              "  .colab-df-spinner {\n",
              "    border: 2px solid var(--fill-color);\n",
              "    border-color: transparent;\n",
              "    border-bottom-color: var(--fill-color);\n",
              "    animation:\n",
              "      spin 1s steps(1) infinite;\n",
              "  }\n",
              "\n",
              "  @keyframes spin {\n",
              "    0% {\n",
              "      border-color: transparent;\n",
              "      border-bottom-color: var(--fill-color);\n",
              "      border-left-color: var(--fill-color);\n",
              "    }\n",
              "    20% {\n",
              "      border-color: transparent;\n",
              "      border-left-color: var(--fill-color);\n",
              "      border-top-color: var(--fill-color);\n",
              "    }\n",
              "    30% {\n",
              "      border-color: transparent;\n",
              "      border-left-color: var(--fill-color);\n",
              "      border-top-color: var(--fill-color);\n",
              "      border-right-color: var(--fill-color);\n",
              "    }\n",
              "    40% {\n",
              "      border-color: transparent;\n",
              "      border-right-color: var(--fill-color);\n",
              "      border-top-color: var(--fill-color);\n",
              "    }\n",
              "    60% {\n",
              "      border-color: transparent;\n",
              "      border-right-color: var(--fill-color);\n",
              "    }\n",
              "    80% {\n",
              "      border-color: transparent;\n",
              "      border-right-color: var(--fill-color);\n",
              "      border-bottom-color: var(--fill-color);\n",
              "    }\n",
              "    90% {\n",
              "      border-color: transparent;\n",
              "      border-bottom-color: var(--fill-color);\n",
              "    }\n",
              "  }\n",
              "</style>\n",
              "\n",
              "  <script>\n",
              "    async function quickchart(key) {\n",
              "      const quickchartButtonEl =\n",
              "        document.querySelector('#' + key + ' button');\n",
              "      quickchartButtonEl.disabled = true;  // To prevent multiple clicks.\n",
              "      quickchartButtonEl.classList.add('colab-df-spinner');\n",
              "      try {\n",
              "        const charts = await google.colab.kernel.invokeFunction(\n",
              "            'suggestCharts', [key], {});\n",
              "      } catch (error) {\n",
              "        console.error('Error during call to suggestCharts:', error);\n",
              "      }\n",
              "      quickchartButtonEl.classList.remove('colab-df-spinner');\n",
              "      quickchartButtonEl.classList.add('colab-df-quickchart-complete');\n",
              "    }\n",
              "    (() => {\n",
              "      let quickchartButtonEl =\n",
              "        document.querySelector('#df-e35acdf8-033d-4c42-8d6b-320afddb1c30 button');\n",
              "      quickchartButtonEl.style.display =\n",
              "        google.colab.kernel.accessAllowed ? 'block' : 'none';\n",
              "    })();\n",
              "  </script>\n",
              "</div>\n",
              "    </div>\n",
              "  </div>\n"
            ]
          },
          "metadata": {},
          "execution_count": 16
        }
      ]
    },
    {
      "cell_type": "code",
      "source": [
        "sns.heatmap(df.corr(),cmap =\"magma\")"
      ],
      "metadata": {
        "colab": {
          "base_uri": "https://localhost:8080/",
          "height": 554
        },
        "id": "KsY8PxUFeCQV",
        "outputId": "2313c450-a661-475a-c6e1-946e2c750cd8"
      },
      "execution_count": 17,
      "outputs": [
        {
          "output_type": "execute_result",
          "data": {
            "text/plain": [
              "<Axes: >"
            ]
          },
          "metadata": {},
          "execution_count": 17
        },
        {
          "output_type": "display_data",
          "data": {
            "text/plain": [
              "<Figure size 640x480 with 2 Axes>"
            ],
            "image/png": "[encoded data removed]"
          },
          "metadata": {}
        }
      ]
    },
    {
      "cell_type": "markdown",
      "source": [
        "Splitting testing and training data"
      ],
      "metadata": {
        "id": "mWQxEtUj8JeX"
      }
    },
    {
      "cell_type": "code",
      "source": [
        "from sklearn.model_selection import train_test_split\n",
        "x = df.drop('class', axis=1)\n",
        "y = df['class']\n",
        "x_train, x_test, y_train, y_test = train_test_split(x, y, test_size=0.2, random_state=2)\n"
      ],
      "metadata": {
        "id": "YUFpMGxUj22Q"
      },
      "execution_count": 18,
      "outputs": []
    },
    {
      "cell_type": "code",
      "source": [
        "y_train.value_counts()"
      ],
      "metadata": {
        "colab": {
          "base_uri": "https://localhost:8080/"
        },
        "id": "qaODldDZk3LO",
        "outputId": "59247731-134f-4c16-ee1b-2328e050a6a3"
      },
      "execution_count": 19,
      "outputs": [
        {
          "output_type": "execute_result",
          "data": {
            "text/plain": [
              "2    64\n",
              "3    50\n",
              "4     3\n",
              "1     1\n",
              "Name: class, dtype: int64"
            ]
          },
          "metadata": {},
          "execution_count": 19
        }
      ]
    },
    {
      "cell_type": "code",
      "source": [
        "y_test.value_counts()"
      ],
      "metadata": {
        "colab": {
          "base_uri": "https://localhost:8080/"
        },
        "id": "CHHVHsdwlF7z",
        "outputId": "363a3421-1b86-4088-e2ee-69643b86b912"
      },
      "execution_count": 20,
      "outputs": [
        {
          "output_type": "execute_result",
          "data": {
            "text/plain": [
              "2    17\n",
              "3    11\n",
              "4     1\n",
              "1     1\n",
              "Name: class, dtype: int64"
            ]
          },
          "metadata": {},
          "execution_count": 20
        }
      ]
    },
    {
      "cell_type": "markdown",
      "source": [
        "Model building"
      ],
      "metadata": {
        "id": "xHCGIUetrGUT"
      }
    },
    {
      "cell_type": "code",
      "source": [
        "from sklearn.model_selection import GridSearchCV\n",
        "from sklearn.neighbors import KNeighborsClassifier\n",
        "knn=KNeighborsClassifier()\n",
        "train_score = {}\n",
        "test_score = {}\n",
        "n_neighbors = np.arange(2, 30, 1)\n",
        "for neighbor in n_neighbors:\n",
        "    knn = KNeighborsClassifier(n_neighbors=neighbor)\n",
        "    knn.fit(x_train, y_train)\n",
        "    train_score[neighbor]=knn.score(x_train, y_train)\n",
        "    test_score[neighbor]=knn.score(x_test, y_test)\n",
        "plt.plot(n_neighbors, train_score.values(), label=\"Train Accuracy\")\n",
        "plt.plot(n_neighbors, test_score.values(), label=\"Test Accuracy\")\n",
        "plt.xlabel(\"Number Of Neighbors\")\n",
        "plt.ylabel(\"Accuracy\")\n",
        "plt.title(\"KNN: Varying number of Neighbors\")\n",
        "plt.legend()\n",
        "plt.xlim(0, 33)\n",
        "plt.ylim(0.60, 0.90)\n",
        "plt.grid()\n",
        "plt.show()\n"
      ],
      "metadata": {
        "colab": {
          "base_uri": "https://localhost:8080/",
          "height": 472
        },
        "id": "ufFdnJ-znl4Y",
        "outputId": "e2e08eac-d68c-4b52-edc0-4988267cb08a"
      },
      "execution_count": 21,
      "outputs": [
        {
          "output_type": "display_data",
          "data": {
            "text/plain": [
              "<Figure size 640x480 with 1 Axes>"
            ],
            "image/png": "[encoded data removed]"
          },
          "metadata": {}
        }
      ]
    },
    {
      "cell_type": "markdown",
      "source": [
        "at k=5, max values can be seen"
      ],
      "metadata": {
        "id": "qsUI_lHNdTgz"
      }
    },
    {
      "cell_type": "code",
      "source": [
        "from sklearn.neighbors import KNeighborsClassifier\n",
        "from sklearn.metrics import classification_report,accuracy_score\n",
        "knn=KNeighborsClassifier()\n",
        "knn = KNeighborsClassifier(n_neighbors=3)\n",
        "knn.fit(x_train, y_train)\n",
        "p_pre1p=knn.predict(x_test)\n",
        "p_pre1t=knn.predict(x_train)\n",
        "print(\"classification_report\")\n",
        "print(classification_report(y_true=y_test, y_pred=p_pre1p))"
      ],
      "metadata": {
        "colab": {
          "base_uri": "https://localhost:8080/"
        },
        "id": "e1wd5XHVdRsW",
        "outputId": "6070cc36-dcec-407b-d410-4356779fe152"
      },
      "execution_count": 22,
      "outputs": [
        {
          "output_type": "stream",
          "name": "stdout",
          "text": [
            "classification_report\n",
            "              precision    recall  f1-score   support\n",
            "\n",
            "           1       0.00      0.00      0.00         1\n",
            "           2       0.82      0.82      0.82        17\n",
            "           3       0.75      0.82      0.78        11\n",
            "           4       1.00      1.00      1.00         1\n",
            "\n",
            "    accuracy                           0.80        30\n",
            "   macro avg       0.64      0.66      0.65        30\n",
            "weighted avg       0.78      0.80      0.79        30\n",
            "\n"
          ]
        },
        {
          "output_type": "stream",
          "name": "stderr",
          "text": [
            "/usr/local/lib/python3.10/dist-packages/sklearn/metrics/_classification.py:1344: UndefinedMetricWarning: Precision and F-score are ill-defined and being set to 0.0 in labels with no predicted samples. Use `zero_division` parameter to control this behavior.\n",
            "  _warn_prf(average, modifier, msg_start, len(result))\n",
            "/usr/local/lib/python3.10/dist-packages/sklearn/metrics/_classification.py:1344: UndefinedMetricWarning: Precision and F-score are ill-defined and being set to 0.0 in labels with no predicted samples. Use `zero_division` parameter to control this behavior.\n",
            "  _warn_prf(average, modifier, msg_start, len(result))\n",
            "/usr/local/lib/python3.10/dist-packages/sklearn/metrics/_classification.py:1344: UndefinedMetricWarning: Precision and F-score are ill-defined and being set to 0.0 in labels with no predicted samples. Use `zero_division` parameter to control this behavior.\n",
            "  _warn_prf(average, modifier, msg_start, len(result))\n"
          ]
        }
      ]
    },
    {
      "cell_type": "code",
      "source": [
        "from sklearn.metrics import accuracy_score,confusion_matrix\n",
        "accuracy_score(y_test,p_pre1p)"
      ],
      "metadata": {
        "colab": {
          "base_uri": "https://localhost:8080/"
        },
        "id": "o0l1pwdPPSz1",
        "outputId": "bd87a79f-5b5e-44fc-9e32-5a680a982c1d"
      },
      "execution_count": 23,
      "outputs": [
        {
          "output_type": "execute_result",
          "data": {
            "text/plain": [
              "0.8"
            ]
          },
          "metadata": {},
          "execution_count": 23
        }
      ]
    },
    {
      "cell_type": "code",
      "source": [
        "confusion_matrix(y_test,p_pre1p)"
      ],
      "metadata": {
        "colab": {
          "base_uri": "https://localhost:8080/"
        },
        "id": "_ddfp0zQPvbd",
        "outputId": "4e84a66c-7489-4f55-d035-8a1ec7bff609"
      },
      "execution_count": 24,
      "outputs": [
        {
          "output_type": "execute_result",
          "data": {
            "text/plain": [
              "array([[ 0,  1,  0,  0],\n",
              "       [ 0, 14,  3,  0],\n",
              "       [ 0,  2,  9,  0],\n",
              "       [ 0,  0,  0,  1]])"
            ]
          },
          "metadata": {},
          "execution_count": 24
        }
      ]
    },
    {
      "cell_type": "code",
      "source": [
        "pd.crosstab(y_test,p_pre1p)"
      ],
      "metadata": {
        "colab": {
          "base_uri": "https://localhost:8080/",
          "height": 206
        },
        "id": "6kHYYhWFP8cg",
        "outputId": "88904302-ea9e-465d-da3a-0370d1a3e575"
      },
      "execution_count": 25,
      "outputs": [
        {
          "output_type": "execute_result",
          "data": {
            "text/plain": [
              "col_0   2  3  4\n",
              "class          \n",
              "1       1  0  0\n",
              "2      14  3  0\n",
              "3       2  9  0\n",
              "4       0  0  1"
            ],
            "text/html": [
              "\n",
              "  <div id=\"df-0c3c8639-85c0-46f5-86ac-5efd3a41c5d1\" class=\"colab-df-container\">\n",
              "    <div>\n",
              "<style scoped>\n",
              "    .dataframe tbody tr th:only-of-type {\n",
              "        vertical-align: middle;\n",
              "    }\n",
              "\n",
              "    .dataframe tbody tr th {\n",
              "        vertical-align: top;\n",
              "    }\n",
              "\n",
              "    .dataframe thead th {\n",
              "        text-align: right;\n",
              "    }\n",
              "</style>\n",
              "<table border=\"1\" class=\"dataframe\">\n",
              "  <thead>\n",
              "    <tr style=\"text-align: right;\">\n",
              "      <th>col_0</th>\n",
              "      <th>2</th>\n",
              "      <th>3</th>\n",
              "      <th>4</th>\n",
              "    </tr>\n",
              "    <tr>\n",
              "      <th>class</th>\n",
              "      <th></th>\n",
              "      <th></th>\n",
              "      <th></th>\n",
              "    </tr>\n",
              "  </thead>\n",
              "  <tbody>\n",
              "    <tr>\n",
              "      <th>1</th>\n",
              "      <td>1</td>\n",
              "      <td>0</td>\n",
              "      <td>0</td>\n",
              "    </tr>\n",
              "    <tr>\n",
              "      <th>2</th>\n",
              "      <td>14</td>\n",
              "      <td>3</td>\n",
              "      <td>0</td>\n",
              "    </tr>\n",
              "    <tr>\n",
              "      <th>3</th>\n",
              "      <td>2</td>\n",
              "      <td>9</td>\n",
              "      <td>0</td>\n",
              "    </tr>\n",
              "    <tr>\n",
              "      <th>4</th>\n",
              "      <td>0</td>\n",
              "      <td>0</td>\n",
              "      <td>1</td>\n",
              "    </tr>\n",
              "  </tbody>\n",
              "</table>\n",
              "</div>\n",
              "    <div class=\"colab-df-buttons\">\n",
              "\n",
              "  <div class=\"colab-df-container\">\n",
              "    <button class=\"colab-df-convert\" onclick=\"convertToInteractive('df-0c3c8639-85c0-46f5-86ac-5efd3a41c5d1')\"\n",
              "            title=\"Convert this dataframe to an interactive table.\"\n",
              "            style=\"display:none;\">\n",
              "\n",
              "  <svg xmlns=\"http://www.w3.org/2000/svg\" height=\"24px\" viewBox=\"0 -960 960 960\">\n",
              "    <path d=\"M120-120v-720h720v720H120Zm60-500h600v-160H180v160Zm220 220h160v-160H400v160Zm0 220h160v-160H400v160ZM180-400h160v-160H180v160Zm440 0h160v-160H620v160ZM180-180h160v-160H180v160Zm440 0h160v-160H620v160Z\"/>\n",
              "  </svg>\n",
              "    </button>\n",
              "\n",
              "  <style>\n",
              "    .colab-df-container {\n",
              "      display:flex;\n",
              "      gap: 12px;\n",
              "    }\n",
              "\n",
              "    .colab-df-convert {\n",
              "      background-color: #E8F0FE;\n",
              "      border: none;\n",
              "      border-radius: 50%;\n",
              "      cursor: pointer;\n",
              "      display: none;\n",
              "      fill: #1967D2;\n",
              "      height: 32px;\n",
              "      padding: 0 0 0 0;\n",
              "      width: 32px;\n",
              "    }\n",
              "\n",
              "    .colab-df-convert:hover {\n",
              "      background-color: #E2EBFA;\n",
              "      box-shadow: 0px 1px 2px rgba(60, 64, 67, 0.3), 0px 1px 3px 1px rgba(60, 64, 67, 0.15);\n",
              "      fill: #174EA6;\n",
              "    }\n",
              "\n",
              "    .colab-df-buttons div {\n",
              "      margin-bottom: 4px;\n",
              "    }\n",
              "\n",
              "    [theme=dark] .colab-df-convert {\n",
              "      background-color: #3B4455;\n",
              "      fill: #D2E3FC;\n",
              "    }\n",
              "\n",
              "    [theme=dark] .colab-df-convert:hover {\n",
              "      background-color: #434B5C;\n",
              "      box-shadow: 0px 1px 3px 1px rgba(0, 0, 0, 0.15);\n",
              "      filter: drop-shadow(0px 1px 2px rgba(0, 0, 0, 0.3));\n",
              "      fill: #FFFFFF;\n",
              "    }\n",
              "  </style>\n",
              "\n",
              "    <script>\n",
              "      const buttonEl =\n",
              "        document.querySelector('#df-0c3c8639-85c0-46f5-86ac-5efd3a41c5d1 button.colab-df-convert');\n",
              "      buttonEl.style.display =\n",
              "        google.colab.kernel.accessAllowed ? 'block' : 'none';\n",
              "\n",
              "      async function convertToInteractive(key) {\n",
              "        const element = document.querySelector('#df-0c3c8639-85c0-46f5-86ac-5efd3a41c5d1');\n",
              "        const dataTable =\n",
              "          await google.colab.kernel.invokeFunction('convertToInteractive',\n",
              "                                                    [key], {});\n",
              "        if (!dataTable) return;\n",
              "\n",
              "        const docLinkHtml = 'Like what you see? Visit the ' +\n",
              "          '<a target=\"_blank\" href=https://colab.research.google.com/notebooks/data_table.ipynb>data table notebook</a>'\n",
              "          + ' to learn more about interactive tables.';\n",
              "        element.innerHTML = '';\n",
              "        dataTable['output_type'] = 'display_data';\n",
              "        await google.colab.output.renderOutput(dataTable, element);\n",
              "        const docLink = document.createElement('div');\n",
              "        docLink.innerHTML = docLinkHtml;\n",
              "        element.appendChild(docLink);\n",
              "      }\n",
              "    </script>\n",
              "  </div>\n",
              "\n",
              "\n",
              "<div id=\"df-693c2239-37cc-43ba-9631-716ec33cb3ac\">\n",
              "  <button class=\"colab-df-quickchart\" onclick=\"quickchart('df-693c2239-37cc-43ba-9631-716ec33cb3ac')\"\n",
              "            title=\"Suggest charts\"\n",
              "            style=\"display:none;\">\n",
              "\n",
              "<svg xmlns=\"http://www.w3.org/2000/svg\" height=\"24px\"viewBox=\"0 0 24 24\"\n",
              "     width=\"24px\">\n",
              "    <g>\n",
              "        <path d=\"M19 3H5c-1.1 0-2 .9-2 2v14c0 1.1.9 2 2 2h14c1.1 0 2-.9 2-2V5c0-1.1-.9-2-2-2zM9 17H7v-7h2v7zm4 0h-2V7h2v10zm4 0h-2v-4h2v4z\"/>\n",
              "    </g>\n",
              "</svg>\n",
              "  </button>\n",
              "\n",
              "<style>\n",
              "  .colab-df-quickchart {\n",
              "      --bg-color: #E8F0FE;\n",
              "      --fill-color: #1967D2;\n",
              "      --hover-bg-color: #E2EBFA;\n",
              "      --hover-fill-color: #174EA6;\n",
              "      --disabled-fill-color: #AAA;\n",
              "      --disabled-bg-color: #DDD;\n",
              "  }\n",
              "\n",
              "  [theme=dark] .colab-df-quickchart {\n",
              "      --bg-color: #3B4455;\n",
              "      --fill-color: #D2E3FC;\n",
              "      --hover-bg-color: #434B5C;\n",
              "      --hover-fill-color: #FFFFFF;\n",
              "      --disabled-bg-color: #3B4455;\n",
              "      --disabled-fill-color: #666;\n",
              "  }\n",
              "\n",
              "  .colab-df-quickchart {\n",
              "    background-color: var(--bg-color);\n",
              "    border: none;\n",
              "    border-radius: 50%;\n",
              "    cursor: pointer;\n",
              "    display: none;\n",
              "    fill: var(--fill-color);\n",
              "    height: 32px;\n",
              "    padding: 0;\n",
              "    width: 32px;\n",
              "  }\n",
              "\n",
              "  .colab-df-quickchart:hover {\n",
              "    background-color: var(--hover-bg-color);\n",
              "    box-shadow: 0 1px 2px rgba(60, 64, 67, 0.3), 0 1px 3px 1px rgba(60, 64, 67, 0.15);\n",
              "    fill: var(--button-hover-fill-color);\n",
              "  }\n",
              "\n",
              "  .colab-df-quickchart-complete:disabled,\n",
              "  .colab-df-quickchart-complete:disabled:hover {\n",
              "    background-color: var(--disabled-bg-color);\n",
              "    fill: var(--disabled-fill-color);\n",
              "    box-shadow: none;\n",
              "  }\n",
              "\n",
              "  .colab-df-spinner {\n",
              "    border: 2px solid var(--fill-color);\n",
              "    border-color: transparent;\n",
              "    border-bottom-color: var(--fill-color);\n",
              "    animation:\n",
              "      spin 1s steps(1) infinite;\n",
              "  }\n",
              "\n",
              "  @keyframes spin {\n",
              "    0% {\n",
              "      border-color: transparent;\n",
              "      border-bottom-color: var(--fill-color);\n",
              "      border-left-color: var(--fill-color);\n",
              "    }\n",
              "    20% {\n",
              "      border-color: transparent;\n",
              "      border-left-color: var(--fill-color);\n",
              "      border-top-color: var(--fill-color);\n",
              "    }\n",
              "    30% {\n",
              "      border-color: transparent;\n",
              "      border-left-color: var(--fill-color);\n",
              "      border-top-color: var(--fill-color);\n",
              "      border-right-color: var(--fill-color);\n",
              "    }\n",
              "    40% {\n",
              "      border-color: transparent;\n",
              "      border-right-color: var(--fill-color);\n",
              "      border-top-color: var(--fill-color);\n",
              "    }\n",
              "    60% {\n",
              "      border-color: transparent;\n",
              "      border-right-color: var(--fill-color);\n",
              "    }\n",
              "    80% {\n",
              "      border-color: transparent;\n",
              "      border-right-color: var(--fill-color);\n",
              "      border-bottom-color: var(--fill-color);\n",
              "    }\n",
              "    90% {\n",
              "      border-color: transparent;\n",
              "      border-bottom-color: var(--fill-color);\n",
              "    }\n",
              "  }\n",
              "</style>\n",
              "\n",
              "  <script>\n",
              "    async function quickchart(key) {\n",
              "      const quickchartButtonEl =\n",
              "        document.querySelector('#' + key + ' button');\n",
              "      quickchartButtonEl.disabled = true;  // To prevent multiple clicks.\n",
              "      quickchartButtonEl.classList.add('colab-df-spinner');\n",
              "      try {\n",
              "        const charts = await google.colab.kernel.invokeFunction(\n",
              "            'suggestCharts', [key], {});\n",
              "      } catch (error) {\n",
              "        console.error('Error during call to suggestCharts:', error);\n",
              "      }\n",
              "      quickchartButtonEl.classList.remove('colab-df-spinner');\n",
              "      quickchartButtonEl.classList.add('colab-df-quickchart-complete');\n",
              "    }\n",
              "    (() => {\n",
              "      let quickchartButtonEl =\n",
              "        document.querySelector('#df-693c2239-37cc-43ba-9631-716ec33cb3ac button');\n",
              "      quickchartButtonEl.style.display =\n",
              "        google.colab.kernel.accessAllowed ? 'block' : 'none';\n",
              "    })();\n",
              "  </script>\n",
              "</div>\n",
              "    </div>\n",
              "  </div>\n"
            ]
          },
          "metadata": {},
          "execution_count": 25
        }
      ]
    },
    {
      "cell_type": "code",
      "source": [
        "from sklearn.tree import DecisionTreeClassifier\n",
        "model1 = DecisionTreeClassifier(max_depth=6,splitter='best',criterion='entropy')\n",
        "model1.fit(x_train,y_train)"
      ],
      "metadata": {
        "colab": {
          "base_uri": "https://localhost:8080/",
          "height": 74
        },
        "id": "h1wXw30jRhen",
        "outputId": "eb97e9c9-25c8-4fda-8be3-85dde6b99321"
      },
      "execution_count": 26,
      "outputs": [
        {
          "output_type": "execute_result",
          "data": {
            "text/plain": [
              "DecisionTreeClassifier(criterion='entropy', max_depth=6)"
            ],
            "text/html": [
              "<style>#sk-container-id-1 {color: black;background-color: white;}#sk-container-id-1 pre{padding: 0;}#sk-container-id-1 div.sk-toggleable {background-color: white;}#sk-container-id-1 label.sk-toggleable__label {cursor: pointer;display: block;width: 100%;margin-bottom: 0;padding: 0.3em;box-sizing: border-box;text-align: center;}#sk-container-id-1 label.sk-toggleable__label-arrow:before {content: \"▸\";float: left;margin-right: 0.25em;color: #696969;}#sk-container-id-1 label.sk-toggleable__label-arrow:hover:before {color: black;}#sk-container-id-1 div.sk-estimator:hover label.sk-toggleable__label-arrow:before {color: black;}#sk-container-id-1 div.sk-toggleable__content {max-height: 0;max-width: 0;overflow: hidden;text-align: left;background-color: #f0f8ff;}#sk-container-id-1 div.sk-toggleable__content pre {margin: 0.2em;color: black;border-radius: 0.25em;background-color: #f0f8ff;}#sk-container-id-1 input.sk-toggleable__control:checked~div.sk-toggleable__content {max-height: 200px;max-width: 100%;overflow: auto;}#sk-container-id-1 input.sk-toggleable__control:checked~label.sk-toggleable__label-arrow:before {content: \"▾\";}#sk-container-id-1 div.sk-estimator input.sk-toggleable__control:checked~label.sk-toggleable__label {background-color: #d4ebff;}#sk-container-id-1 div.sk-label input.sk-toggleable__control:checked~label.sk-toggleable__label {background-color: #d4ebff;}#sk-container-id-1 input.sk-hidden--visually {border: 0;clip: rect(1px 1px 1px 1px);clip: rect(1px, 1px, 1px, 1px);height: 1px;margin: -1px;overflow: hidden;padding: 0;position: absolute;width: 1px;}#sk-container-id-1 div.sk-estimator {font-family: monospace;background-color: #f0f8ff;border: 1px dotted black;border-radius: 0.25em;box-sizing: border-box;margin-bottom: 0.5em;}#sk-container-id-1 div.sk-estimator:hover {background-color: #d4ebff;}#sk-container-id-1 div.sk-parallel-item::after {content: \"\";width: 100%;border-bottom: 1px solid gray;flex-grow: 1;}#sk-container-id-1 div.sk-label:hover label.sk-toggleable__label {background-color: #d4ebff;}#sk-container-id-1 div.sk-serial::before {content: \"\";position: absolute;border-left: 1px solid gray;box-sizing: border-box;top: 0;bottom: 0;left: 50%;z-index: 0;}#sk-container-id-1 div.sk-serial {display: flex;flex-direction: column;align-items: center;background-color: white;padding-right: 0.2em;padding-left: 0.2em;position: relative;}#sk-container-id-1 div.sk-item {position: relative;z-index: 1;}#sk-container-id-1 div.sk-parallel {display: flex;align-items: stretch;justify-content: center;background-color: white;position: relative;}#sk-container-id-1 div.sk-item::before, #sk-container-id-1 div.sk-parallel-item::before {content: \"\";position: absolute;border-left: 1px solid gray;box-sizing: border-box;top: 0;bottom: 0;left: 50%;z-index: -1;}#sk-container-id-1 div.sk-parallel-item {display: flex;flex-direction: column;z-index: 1;position: relative;background-color: white;}#sk-container-id-1 div.sk-parallel-item:first-child::after {align-self: flex-end;width: 50%;}#sk-container-id-1 div.sk-parallel-item:last-child::after {align-self: flex-start;width: 50%;}#sk-container-id-1 div.sk-parallel-item:only-child::after {width: 0;}#sk-container-id-1 div.sk-dashed-wrapped {border: 1px dashed gray;margin: 0 0.4em 0.5em 0.4em;box-sizing: border-box;padding-bottom: 0.4em;background-color: white;}#sk-container-id-1 div.sk-label label {font-family: monospace;font-weight: bold;display: inline-block;line-height: 1.2em;}#sk-container-id-1 div.sk-label-container {text-align: center;}#sk-container-id-1 div.sk-container {/* jupyter's `normalize.less` sets `[hidden] { display: none; }` but bootstrap.min.css set `[hidden] { display: none !important; }` so we also need the `!important` here to be able to override the default hidden behavior on the sphinx rendered scikit-learn.org. See: https://github.com/scikit-learn/scikit-learn/issues/21755 */display: inline-block !important;position: relative;}#sk-container-id-1 div.sk-text-repr-fallback {display: none;}</style><div id=\"sk-container-id-1\" class=\"sk-top-container\"><div class=\"sk-text-repr-fallback\"><pre>DecisionTreeClassifier(criterion=&#x27;entropy&#x27;, max_depth=6)</pre><b>In a Jupyter environment, please rerun this cell to show the HTML representation or trust the notebook. <br />On GitHub, the HTML representation is unable to render, please try loading this page with nbviewer.org.</b></div><div class=\"sk-container\" hidden><div class=\"sk-item\"><div class=\"sk-estimator sk-toggleable\"><input class=\"sk-toggleable__control sk-hidden--visually\" id=\"sk-estimator-id-1\" type=\"checkbox\" checked><label for=\"sk-estimator-id-1\" class=\"sk-toggleable__label sk-toggleable__label-arrow\">DecisionTreeClassifier</label><div class=\"sk-toggleable__content\"><pre>DecisionTreeClassifier(criterion=&#x27;entropy&#x27;, max_depth=6)</pre></div></div></div></div></div>"
            ]
          },
          "metadata": {},
          "execution_count": 26
        }
      ]
    },
    {
      "cell_type": "code",
      "source": [
        "p_pre1p=model1.predict(x_test)\n",
        "p_pre1t=model1.predict(x_train)"
      ],
      "metadata": {
        "id": "kUVyZC4iRqN7"
      },
      "execution_count": 27,
      "outputs": []
    },
    {
      "cell_type": "code",
      "source": [
        "print(\"classification_report for test data\")\n",
        "print(classification_report(y_true=y_test, y_pred=p_pre1p))"
      ],
      "metadata": {
        "colab": {
          "base_uri": "https://localhost:8080/"
        },
        "id": "zWD9LSiuRqRP",
        "outputId": "899fab6c-f356-4991-8b59-34cf5ff92d15"
      },
      "execution_count": 28,
      "outputs": [
        {
          "output_type": "stream",
          "name": "stdout",
          "text": [
            "classification_report for test data\n",
            "              precision    recall  f1-score   support\n",
            "\n",
            "           1       0.00      0.00      0.00         1\n",
            "           2       0.84      0.94      0.89        17\n",
            "           3       0.89      0.73      0.80        11\n",
            "           4       0.50      1.00      0.67         1\n",
            "\n",
            "    accuracy                           0.83        30\n",
            "   macro avg       0.56      0.67      0.59        30\n",
            "weighted avg       0.82      0.83      0.82        30\n",
            "\n"
          ]
        },
        {
          "output_type": "stream",
          "name": "stderr",
          "text": [
            "/usr/local/lib/python3.10/dist-packages/sklearn/metrics/_classification.py:1344: UndefinedMetricWarning: Precision and F-score are ill-defined and being set to 0.0 in labels with no predicted samples. Use `zero_division` parameter to control this behavior.\n",
            "  _warn_prf(average, modifier, msg_start, len(result))\n",
            "/usr/local/lib/python3.10/dist-packages/sklearn/metrics/_classification.py:1344: UndefinedMetricWarning: Precision and F-score are ill-defined and being set to 0.0 in labels with no predicted samples. Use `zero_division` parameter to control this behavior.\n",
            "  _warn_prf(average, modifier, msg_start, len(result))\n",
            "/usr/local/lib/python3.10/dist-packages/sklearn/metrics/_classification.py:1344: UndefinedMetricWarning: Precision and F-score are ill-defined and being set to 0.0 in labels with no predicted samples. Use `zero_division` parameter to control this behavior.\n",
            "  _warn_prf(average, modifier, msg_start, len(result))\n"
          ]
        }
      ]
    },
    {
      "cell_type": "code",
      "source": [
        "print(\"classification_report for train data\")\n",
        "print(classification_report(y_true=y_train, y_pred=p_pre1t))"
      ],
      "metadata": {
        "colab": {
          "base_uri": "https://localhost:8080/"
        },
        "id": "Y41QrjDVRzkU",
        "outputId": "0c109e2c-d5c5-41de-ae25-9397e65bf795"
      },
      "execution_count": 29,
      "outputs": [
        {
          "output_type": "stream",
          "name": "stdout",
          "text": [
            "classification_report for train data\n",
            "              precision    recall  f1-score   support\n",
            "\n",
            "           1       1.00      1.00      1.00         1\n",
            "           2       0.90      1.00      0.95        64\n",
            "           3       1.00      0.86      0.92        50\n",
            "           4       1.00      1.00      1.00         3\n",
            "\n",
            "    accuracy                           0.94       118\n",
            "   macro avg       0.98      0.96      0.97       118\n",
            "weighted avg       0.95      0.94      0.94       118\n",
            "\n"
          ]
        }
      ]
    },
    {
      "cell_type": "code",
      "source": [
        "accuracy_score(y_test,p_pre1p)"
      ],
      "metadata": {
        "colab": {
          "base_uri": "https://localhost:8080/"
        },
        "id": "Rkbw_bPuR6zU",
        "outputId": "9984f675-bc0e-4412-f77b-13f7bbba9c07"
      },
      "execution_count": 30,
      "outputs": [
        {
          "output_type": "execute_result",
          "data": {
            "text/plain": [
              "0.8333333333333334"
            ]
          },
          "metadata": {},
          "execution_count": 30
        }
      ]
    },
    {
      "cell_type": "code",
      "source": [
        "confusion_matrix(y_test,p_pre1p)"
      ],
      "metadata": {
        "colab": {
          "base_uri": "https://localhost:8080/"
        },
        "id": "5mhG2uRlcXk6",
        "outputId": "7179396c-56f6-439d-a5bc-620a51b768e3"
      },
      "execution_count": 31,
      "outputs": [
        {
          "output_type": "execute_result",
          "data": {
            "text/plain": [
              "array([[ 0,  1,  0,  0],\n",
              "       [ 0, 16,  1,  0],\n",
              "       [ 0,  2,  8,  1],\n",
              "       [ 0,  0,  0,  1]])"
            ]
          },
          "metadata": {},
          "execution_count": 31
        }
      ]
    },
    {
      "cell_type": "code",
      "source": [
        "model1.predict([[1,1,1,1,1,2,1,2,1,2,2,1,1,2,1,1,1,2]])\n",
        "#given class is 1"
      ],
      "metadata": {
        "colab": {
          "base_uri": "https://localhost:8080/"
        },
        "id": "9zcU2EIqYSJy",
        "outputId": "18bf4aff-ab29-42fc-b6f2-e99b4f022d4f"
      },
      "execution_count": 32,
      "outputs": [
        {
          "output_type": "stream",
          "name": "stderr",
          "text": [
            "/usr/local/lib/python3.10/dist-packages/sklearn/base.py:439: UserWarning: X does not have valid feature names, but DecisionTreeClassifier was fitted with feature names\n",
            "  warnings.warn(\n"
          ]
        },
        {
          "output_type": "execute_result",
          "data": {
            "text/plain": [
              "array([1])"
            ]
          },
          "metadata": {},
          "execution_count": 32
        }
      ]
    },
    {
      "cell_type": "code",
      "source": [
        "model1.predict([[3,1,1,1,2,2,2,1,3,1,1,4,2,5,3,1,2,4]])\n",
        "#given class is 4"
      ],
      "metadata": {
        "colab": {
          "base_uri": "https://localhost:8080/"
        },
        "id": "NX0uWJmFZiKj",
        "outputId": "1bedb4a1-a9cc-4eb2-845f-a28447d51888"
      },
      "execution_count": 33,
      "outputs": [
        {
          "output_type": "stream",
          "name": "stderr",
          "text": [
            "/usr/local/lib/python3.10/dist-packages/sklearn/base.py:439: UserWarning: X does not have valid feature names, but DecisionTreeClassifier was fitted with feature names\n",
            "  warnings.warn(\n"
          ]
        },
        {
          "output_type": "execute_result",
          "data": {
            "text/plain": [
              "array([4])"
            ]
          },
          "metadata": {},
          "execution_count": 33
        }
      ]
    },
    {
      "cell_type": "markdown",
      "source": [
        "Random Forest Classifer"
      ],
      "metadata": {
        "id": "6UAynpTBQIks"
      }
    },
    {
      "cell_type": "code",
      "source": [
        "from sklearn.ensemble import RandomForestClassifier\n",
        "from sklearn.metrics import classification_report,accuracy_score\n",
        "model2 =RandomForestClassifier(n_estimators=5,criterion='entropy')\n",
        "model2.fit(x_train,y_train)"
      ],
      "metadata": {
        "colab": {
          "base_uri": "https://localhost:8080/",
          "height": 74
        },
        "id": "xQqOdBDpeGPU",
        "outputId": "43aba879-7320-44c8-eff3-fbdc306f2889"
      },
      "execution_count": 34,
      "outputs": [
        {
          "output_type": "execute_result",
          "data": {
            "text/plain": [
              "RandomForestClassifier(criterion='entropy', n_estimators=5)"
            ],
            "text/html": [
              "<style>#sk-container-id-2 {color: black;background-color: white;}#sk-container-id-2 pre{padding: 0;}#sk-container-id-2 div.sk-toggleable {background-color: white;}#sk-container-id-2 label.sk-toggleable__label {cursor: pointer;display: block;width: 100%;margin-bottom: 0;padding: 0.3em;box-sizing: border-box;text-align: center;}#sk-container-id-2 label.sk-toggleable__label-arrow:before {content: \"▸\";float: left;margin-right: 0.25em;color: #696969;}#sk-container-id-2 label.sk-toggleable__label-arrow:hover:before {color: black;}#sk-container-id-2 div.sk-estimator:hover label.sk-toggleable__label-arrow:before {color: black;}#sk-container-id-2 div.sk-toggleable__content {max-height: 0;max-width: 0;overflow: hidden;text-align: left;background-color: #f0f8ff;}#sk-container-id-2 div.sk-toggleable__content pre {margin: 0.2em;color: black;border-radius: 0.25em;background-color: #f0f8ff;}#sk-container-id-2 input.sk-toggleable__control:checked~div.sk-toggleable__content {max-height: 200px;max-width: 100%;overflow: auto;}#sk-container-id-2 input.sk-toggleable__control:checked~label.sk-toggleable__label-arrow:before {content: \"▾\";}#sk-container-id-2 div.sk-estimator input.sk-toggleable__control:checked~label.sk-toggleable__label {background-color: #d4ebff;}#sk-container-id-2 div.sk-label input.sk-toggleable__control:checked~label.sk-toggleable__label {background-color: #d4ebff;}#sk-container-id-2 input.sk-hidden--visually {border: 0;clip: rect(1px 1px 1px 1px);clip: rect(1px, 1px, 1px, 1px);height: 1px;margin: -1px;overflow: hidden;padding: 0;position: absolute;width: 1px;}#sk-container-id-2 div.sk-estimator {font-family: monospace;background-color: #f0f8ff;border: 1px dotted black;border-radius: 0.25em;box-sizing: border-box;margin-bottom: 0.5em;}#sk-container-id-2 div.sk-estimator:hover {background-color: #d4ebff;}#sk-container-id-2 div.sk-parallel-item::after {content: \"\";width: 100%;border-bottom: 1px solid gray;flex-grow: 1;}#sk-container-id-2 div.sk-label:hover label.sk-toggleable__label {background-color: #d4ebff;}#sk-container-id-2 div.sk-serial::before {content: \"\";position: absolute;border-left: 1px solid gray;box-sizing: border-box;top: 0;bottom: 0;left: 50%;z-index: 0;}#sk-container-id-2 div.sk-serial {display: flex;flex-direction: column;align-items: center;background-color: white;padding-right: 0.2em;padding-left: 0.2em;position: relative;}#sk-container-id-2 div.sk-item {position: relative;z-index: 1;}#sk-container-id-2 div.sk-parallel {display: flex;align-items: stretch;justify-content: center;background-color: white;position: relative;}#sk-container-id-2 div.sk-item::before, #sk-container-id-2 div.sk-parallel-item::before {content: \"\";position: absolute;border-left: 1px solid gray;box-sizing: border-box;top: 0;bottom: 0;left: 50%;z-index: -1;}#sk-container-id-2 div.sk-parallel-item {display: flex;flex-direction: column;z-index: 1;position: relative;background-color: white;}#sk-container-id-2 div.sk-parallel-item:first-child::after {align-self: flex-end;width: 50%;}#sk-container-id-2 div.sk-parallel-item:last-child::after {align-self: flex-start;width: 50%;}#sk-container-id-2 div.sk-parallel-item:only-child::after {width: 0;}#sk-container-id-2 div.sk-dashed-wrapped {border: 1px dashed gray;margin: 0 0.4em 0.5em 0.4em;box-sizing: border-box;padding-bottom: 0.4em;background-color: white;}#sk-container-id-2 div.sk-label label {font-family: monospace;font-weight: bold;display: inline-block;line-height: 1.2em;}#sk-container-id-2 div.sk-label-container {text-align: center;}#sk-container-id-2 div.sk-container {/* jupyter's `normalize.less` sets `[hidden] { display: none; }` but bootstrap.min.css set `[hidden] { display: none !important; }` so we also need the `!important` here to be able to override the default hidden behavior on the sphinx rendered scikit-learn.org. See: https://github.com/scikit-learn/scikit-learn/issues/21755 */display: inline-block !important;position: relative;}#sk-container-id-2 div.sk-text-repr-fallback {display: none;}</style><div id=\"sk-container-id-2\" class=\"sk-top-container\"><div class=\"sk-text-repr-fallback\"><pre>RandomForestClassifier(criterion=&#x27;entropy&#x27;, n_estimators=5)</pre><b>In a Jupyter environment, please rerun this cell to show the HTML representation or trust the notebook. <br />On GitHub, the HTML representation is unable to render, please try loading this page with nbviewer.org.</b></div><div class=\"sk-container\" hidden><div class=\"sk-item\"><div class=\"sk-estimator sk-toggleable\"><input class=\"sk-toggleable__control sk-hidden--visually\" id=\"sk-estimator-id-2\" type=\"checkbox\" checked><label for=\"sk-estimator-id-2\" class=\"sk-toggleable__label sk-toggleable__label-arrow\">RandomForestClassifier</label><div class=\"sk-toggleable__content\"><pre>RandomForestClassifier(criterion=&#x27;entropy&#x27;, n_estimators=5)</pre></div></div></div></div></div>"
            ]
          },
          "metadata": {},
          "execution_count": 34
        }
      ]
    },
    {
      "cell_type": "code",
      "source": [
        "p_pre1p=model2.predict(x_test)\n",
        "p_pre1t=model2.predict(x_train)"
      ],
      "metadata": {
        "id": "T67UIRMdeI_E"
      },
      "execution_count": 35,
      "outputs": []
    },
    {
      "cell_type": "code",
      "source": [
        "print(\"classification_report of test data\")\n",
        "print(classification_report(y_true=y_test, y_pred=p_pre1p))"
      ],
      "metadata": {
        "id": "EuER1uOjebi6",
        "colab": {
          "base_uri": "https://localhost:8080/"
        },
        "outputId": "02cc1241-b9d4-4e75-9fad-84ce7f58c239"
      },
      "execution_count": 53,
      "outputs": [
        {
          "output_type": "stream",
          "name": "stdout",
          "text": [
            "classification_report of test data\n",
            "              precision    recall  f1-score   support\n",
            "\n",
            "           1       1.00      1.00      1.00         1\n",
            "           2       0.79      0.88      0.83        17\n",
            "           3       0.78      0.64      0.70        11\n",
            "           4       1.00      1.00      1.00         1\n",
            "\n",
            "    accuracy                           0.80        30\n",
            "   macro avg       0.89      0.88      0.88        30\n",
            "weighted avg       0.80      0.80      0.80        30\n",
            "\n"
          ]
        }
      ]
    },
    {
      "cell_type": "code",
      "source": [
        "pd.crosstab(y_test,p_pre1p)"
      ],
      "metadata": {
        "colab": {
          "base_uri": "https://localhost:8080/",
          "height": 206
        },
        "id": "hM1FxaFoKhaC",
        "outputId": "358432b7-b82b-4b4f-c1f6-1665f1bb76fc"
      },
      "execution_count": 37,
      "outputs": [
        {
          "output_type": "execute_result",
          "data": {
            "text/plain": [
              "col_0  1   2  3  4\n",
              "class             \n",
              "1      1   0  0  0\n",
              "2      0  15  2  0\n",
              "3      0   4  7  0\n",
              "4      0   0  0  1"
            ],
            "text/html": [
              "\n",
              "  <div id=\"df-10746c01-2040-4701-acbd-949e197ad391\" class=\"colab-df-container\">\n",
              "    <div>\n",
              "<style scoped>\n",
              "    .dataframe tbody tr th:only-of-type {\n",
              "        vertical-align: middle;\n",
              "    }\n",
              "\n",
              "    .dataframe tbody tr th {\n",
              "        vertical-align: top;\n",
              "    }\n",
              "\n",
              "    .dataframe thead th {\n",
              "        text-align: right;\n",
              "    }\n",
              "</style>\n",
              "<table border=\"1\" class=\"dataframe\">\n",
              "  <thead>\n",
              "    <tr style=\"text-align: right;\">\n",
              "      <th>col_0</th>\n",
              "      <th>1</th>\n",
              "      <th>2</th>\n",
              "      <th>3</th>\n",
              "      <th>4</th>\n",
              "    </tr>\n",
              "    <tr>\n",
              "      <th>class</th>\n",
              "      <th></th>\n",
              "      <th></th>\n",
              "      <th></th>\n",
              "      <th></th>\n",
              "    </tr>\n",
              "  </thead>\n",
              "  <tbody>\n",
              "    <tr>\n",
              "      <th>1</th>\n",
              "      <td>1</td>\n",
              "      <td>0</td>\n",
              "      <td>0</td>\n",
              "      <td>0</td>\n",
              "    </tr>\n",
              "    <tr>\n",
              "      <th>2</th>\n",
              "      <td>0</td>\n",
              "      <td>15</td>\n",
              "      <td>2</td>\n",
              "      <td>0</td>\n",
              "    </tr>\n",
              "    <tr>\n",
              "      <th>3</th>\n",
              "      <td>0</td>\n",
              "      <td>4</td>\n",
              "      <td>7</td>\n",
              "      <td>0</td>\n",
              "    </tr>\n",
              "    <tr>\n",
              "      <th>4</th>\n",
              "      <td>0</td>\n",
              "      <td>0</td>\n",
              "      <td>0</td>\n",
              "      <td>1</td>\n",
              "    </tr>\n",
              "  </tbody>\n",
              "</table>\n",
              "</div>\n",
              "    <div class=\"colab-df-buttons\">\n",
              "\n",
              "  <div class=\"colab-df-container\">\n",
              "    <button class=\"colab-df-convert\" onclick=\"convertToInteractive('df-10746c01-2040-4701-acbd-949e197ad391')\"\n",
              "            title=\"Convert this dataframe to an interactive table.\"\n",
              "            style=\"display:none;\">\n",
              "\n",
              "  <svg xmlns=\"http://www.w3.org/2000/svg\" height=\"24px\" viewBox=\"0 -960 960 960\">\n",
              "    <path d=\"M120-120v-720h720v720H120Zm60-500h600v-160H180v160Zm220 220h160v-160H400v160Zm0 220h160v-160H400v160ZM180-400h160v-160H180v160Zm440 0h160v-160H620v160ZM180-180h160v-160H180v160Zm440 0h160v-160H620v160Z\"/>\n",
              "  </svg>\n",
              "    </button>\n",
              "\n",
              "  <style>\n",
              "    .colab-df-container {\n",
              "      display:flex;\n",
              "      gap: 12px;\n",
              "    }\n",
              "\n",
              "    .colab-df-convert {\n",
              "      background-color: #E8F0FE;\n",
              "      border: none;\n",
              "      border-radius: 50%;\n",
              "      cursor: pointer;\n",
              "      display: none;\n",
              "      fill: #1967D2;\n",
              "      height: 32px;\n",
              "      padding: 0 0 0 0;\n",
              "      width: 32px;\n",
              "    }\n",
              "\n",
              "    .colab-df-convert:hover {\n",
              "      background-color: #E2EBFA;\n",
              "      box-shadow: 0px 1px 2px rgba(60, 64, 67, 0.3), 0px 1px 3px 1px rgba(60, 64, 67, 0.15);\n",
              "      fill: #174EA6;\n",
              "    }\n",
              "\n",
              "    .colab-df-buttons div {\n",
              "      margin-bottom: 4px;\n",
              "    }\n",
              "\n",
              "    [theme=dark] .colab-df-convert {\n",
              "      background-color: #3B4455;\n",
              "      fill: #D2E3FC;\n",
              "    }\n",
              "\n",
              "    [theme=dark] .colab-df-convert:hover {\n",
              "      background-color: #434B5C;\n",
              "      box-shadow: 0px 1px 3px 1px rgba(0, 0, 0, 0.15);\n",
              "      filter: drop-shadow(0px 1px 2px rgba(0, 0, 0, 0.3));\n",
              "      fill: #FFFFFF;\n",
              "    }\n",
              "  </style>\n",
              "\n",
              "    <script>\n",
              "      const buttonEl =\n",
              "        document.querySelector('#df-10746c01-2040-4701-acbd-949e197ad391 button.colab-df-convert');\n",
              "      buttonEl.style.display =\n",
              "        google.colab.kernel.accessAllowed ? 'block' : 'none';\n",
              "\n",
              "      async function convertToInteractive(key) {\n",
              "        const element = document.querySelector('#df-10746c01-2040-4701-acbd-949e197ad391');\n",
              "        const dataTable =\n",
              "          await google.colab.kernel.invokeFunction('convertToInteractive',\n",
              "                                                    [key], {});\n",
              "        if (!dataTable) return;\n",
              "\n",
              "        const docLinkHtml = 'Like what you see? Visit the ' +\n",
              "          '<a target=\"_blank\" href=https://colab.research.google.com/notebooks/data_table.ipynb>data table notebook</a>'\n",
              "          + ' to learn more about interactive tables.';\n",
              "        element.innerHTML = '';\n",
              "        dataTable['output_type'] = 'display_data';\n",
              "        await google.colab.output.renderOutput(dataTable, element);\n",
              "        const docLink = document.createElement('div');\n",
              "        docLink.innerHTML = docLinkHtml;\n",
              "        element.appendChild(docLink);\n",
              "      }\n",
              "    </script>\n",
              "  </div>\n",
              "\n",
              "\n",
              "<div id=\"df-0d08de7c-f120-44e9-bc97-8ddfc046aff0\">\n",
              "  <button class=\"colab-df-quickchart\" onclick=\"quickchart('df-0d08de7c-f120-44e9-bc97-8ddfc046aff0')\"\n",
              "            title=\"Suggest charts\"\n",
              "            style=\"display:none;\">\n",
              "\n",
              "<svg xmlns=\"http://www.w3.org/2000/svg\" height=\"24px\"viewBox=\"0 0 24 24\"\n",
              "     width=\"24px\">\n",
              "    <g>\n",
              "        <path d=\"M19 3H5c-1.1 0-2 .9-2 2v14c0 1.1.9 2 2 2h14c1.1 0 2-.9 2-2V5c0-1.1-.9-2-2-2zM9 17H7v-7h2v7zm4 0h-2V7h2v10zm4 0h-2v-4h2v4z\"/>\n",
              "    </g>\n",
              "</svg>\n",
              "  </button>\n",
              "\n",
              "<style>\n",
              "  .colab-df-quickchart {\n",
              "      --bg-color: #E8F0FE;\n",
              "      --fill-color: #1967D2;\n",
              "      --hover-bg-color: #E2EBFA;\n",
              "      --hover-fill-color: #174EA6;\n",
              "      --disabled-fill-color: #AAA;\n",
              "      --disabled-bg-color: #DDD;\n",
              "  }\n",
              "\n",
              "  [theme=dark] .colab-df-quickchart {\n",
              "      --bg-color: #3B4455;\n",
              "      --fill-color: #D2E3FC;\n",
              "      --hover-bg-color: #434B5C;\n",
              "      --hover-fill-color: #FFFFFF;\n",
              "      --disabled-bg-color: #3B4455;\n",
              "      --disabled-fill-color: #666;\n",
              "  }\n",
              "\n",
              "  .colab-df-quickchart {\n",
              "    background-color: var(--bg-color);\n",
              "    border: none;\n",
              "    border-radius: 50%;\n",
              "    cursor: pointer;\n",
              "    display: none;\n",
              "    fill: var(--fill-color);\n",
              "    height: 32px;\n",
              "    padding: 0;\n",
              "    width: 32px;\n",
              "  }\n",
              "\n",
              "  .colab-df-quickchart:hover {\n",
              "    background-color: var(--hover-bg-color);\n",
              "    box-shadow: 0 1px 2px rgba(60, 64, 67, 0.3), 0 1px 3px 1px rgba(60, 64, 67, 0.15);\n",
              "    fill: var(--button-hover-fill-color);\n",
              "  }\n",
              "\n",
              "  .colab-df-quickchart-complete:disabled,\n",
              "  .colab-df-quickchart-complete:disabled:hover {\n",
              "    background-color: var(--disabled-bg-color);\n",
              "    fill: var(--disabled-fill-color);\n",
              "    box-shadow: none;\n",
              "  }\n",
              "\n",
              "  .colab-df-spinner {\n",
              "    border: 2px solid var(--fill-color);\n",
              "    border-color: transparent;\n",
              "    border-bottom-color: var(--fill-color);\n",
              "    animation:\n",
              "      spin 1s steps(1) infinite;\n",
              "  }\n",
              "\n",
              "  @keyframes spin {\n",
              "    0% {\n",
              "      border-color: transparent;\n",
              "      border-bottom-color: var(--fill-color);\n",
              "      border-left-color: var(--fill-color);\n",
              "    }\n",
              "    20% {\n",
              "      border-color: transparent;\n",
              "      border-left-color: var(--fill-color);\n",
              "      border-top-color: var(--fill-color);\n",
              "    }\n",
              "    30% {\n",
              "      border-color: transparent;\n",
              "      border-left-color: var(--fill-color);\n",
              "      border-top-color: var(--fill-color);\n",
              "      border-right-color: var(--fill-color);\n",
              "    }\n",
              "    40% {\n",
              "      border-color: transparent;\n",
              "      border-right-color: var(--fill-color);\n",
              "      border-top-color: var(--fill-color);\n",
              "    }\n",
              "    60% {\n",
              "      border-color: transparent;\n",
              "      border-right-color: var(--fill-color);\n",
              "    }\n",
              "    80% {\n",
              "      border-color: transparent;\n",
              "      border-right-color: var(--fill-color);\n",
              "      border-bottom-color: var(--fill-color);\n",
              "    }\n",
              "    90% {\n",
              "      border-color: transparent;\n",
              "      border-bottom-color: var(--fill-color);\n",
              "    }\n",
              "  }\n",
              "</style>\n",
              "\n",
              "  <script>\n",
              "    async function quickchart(key) {\n",
              "      const quickchartButtonEl =\n",
              "        document.querySelector('#' + key + ' button');\n",
              "      quickchartButtonEl.disabled = true;  // To prevent multiple clicks.\n",
              "      quickchartButtonEl.classList.add('colab-df-spinner');\n",
              "      try {\n",
              "        const charts = await google.colab.kernel.invokeFunction(\n",
              "            'suggestCharts', [key], {});\n",
              "      } catch (error) {\n",
              "        console.error('Error during call to suggestCharts:', error);\n",
              "      }\n",
              "      quickchartButtonEl.classList.remove('colab-df-spinner');\n",
              "      quickchartButtonEl.classList.add('colab-df-quickchart-complete');\n",
              "    }\n",
              "    (() => {\n",
              "      let quickchartButtonEl =\n",
              "        document.querySelector('#df-0d08de7c-f120-44e9-bc97-8ddfc046aff0 button');\n",
              "      quickchartButtonEl.style.display =\n",
              "        google.colab.kernel.accessAllowed ? 'block' : 'none';\n",
              "    })();\n",
              "  </script>\n",
              "</div>\n",
              "    </div>\n",
              "  </div>\n"
            ]
          },
          "metadata": {},
          "execution_count": 37
        }
      ]
    },
    {
      "cell_type": "code",
      "source": [
        "accuracy_score(y_test,p_pre1p)"
      ],
      "metadata": {
        "colab": {
          "base_uri": "https://localhost:8080/"
        },
        "id": "Q8MCXQdMdvSW",
        "outputId": "0e51a5da-1a82-4453-fbab-870035b296de"
      },
      "execution_count": 38,
      "outputs": [
        {
          "output_type": "execute_result",
          "data": {
            "text/plain": [
              "0.8"
            ]
          },
          "metadata": {},
          "execution_count": 38
        }
      ]
    },
    {
      "cell_type": "code",
      "source": [
        "confusion_matrix(y_test,p_pre1p)"
      ],
      "metadata": {
        "colab": {
          "base_uri": "https://localhost:8080/"
        },
        "id": "lJOp5eD5d2yA",
        "outputId": "ff3e196e-592c-4197-ce24-51dcd522d559"
      },
      "execution_count": 39,
      "outputs": [
        {
          "output_type": "execute_result",
          "data": {
            "text/plain": [
              "array([[ 1,  0,  0,  0],\n",
              "       [ 0, 15,  2,  0],\n",
              "       [ 0,  4,  7,  0],\n",
              "       [ 0,  0,  0,  1]])"
            ]
          },
          "metadata": {},
          "execution_count": 39
        }
      ]
    },
    {
      "cell_type": "code",
      "source": [
        "print(\"classification_report for train data\")\n",
        "print(classification_report(y_true=y_train, y_pred=p_pre1t))"
      ],
      "metadata": {
        "id": "UKC1nRVOLkyG",
        "colab": {
          "base_uri": "https://localhost:8080/"
        },
        "outputId": "72eeb8bd-2020-4c28-edf1-2be68e1946ae"
      },
      "execution_count": 40,
      "outputs": [
        {
          "output_type": "stream",
          "name": "stdout",
          "text": [
            "classification_report for train data\n",
            "              precision    recall  f1-score   support\n",
            "\n",
            "           1       1.00      1.00      1.00         1\n",
            "           2       0.95      0.98      0.97        64\n",
            "           3       0.98      0.94      0.96        50\n",
            "           4       1.00      1.00      1.00         3\n",
            "\n",
            "    accuracy                           0.97       118\n",
            "   macro avg       0.98      0.98      0.98       118\n",
            "weighted avg       0.97      0.97      0.97       118\n",
            "\n"
          ]
        }
      ]
    },
    {
      "cell_type": "markdown",
      "source": [
        "As random **forest** classifier has highest accuracy, it is opted as model"
      ],
      "metadata": {
        "id": "87RR01KvRDRG"
      }
    },
    {
      "cell_type": "code",
      "source": [
        "model2.predict([[4,2,1,1,1,1,1,2,1,2,2,2,4,8,1,1,2,2]])\n",
        "#given class is 3"
      ],
      "metadata": {
        "colab": {
          "base_uri": "https://localhost:8080/"
        },
        "id": "p06lh0HieONU",
        "outputId": "2e0d30f9-6d7f-4883-c8d3-98440b292e5f"
      },
      "execution_count": 41,
      "outputs": [
        {
          "output_type": "stream",
          "name": "stderr",
          "text": [
            "/usr/local/lib/python3.10/dist-packages/sklearn/base.py:439: UserWarning: X does not have valid feature names, but RandomForestClassifier was fitted with feature names\n",
            "  warnings.warn(\n"
          ]
        },
        {
          "output_type": "execute_result",
          "data": {
            "text/plain": [
              "array([3])"
            ]
          },
          "metadata": {},
          "execution_count": 41
        }
      ]
    },
    {
      "cell_type": "code",
      "source": [
        "model2.predict([[1,1,1,1,1,1,1,1,1,1,1,1,1,1,1,1,1,1]])\n",
        "#given class is 1"
      ],
      "metadata": {
        "colab": {
          "base_uri": "https://localhost:8080/"
        },
        "id": "3pTyaQaUe2dO",
        "outputId": "3b6b312d-8217-4c63-9b2f-3d59c79615e7"
      },
      "execution_count": 51,
      "outputs": [
        {
          "output_type": "stream",
          "name": "stderr",
          "text": [
            "/usr/local/lib/python3.10/dist-packages/sklearn/base.py:439: UserWarning: X does not have valid feature names, but RandomForestClassifier was fitted with feature names\n",
            "  warnings.warn(\n"
          ]
        },
        {
          "output_type": "execute_result",
          "data": {
            "text/plain": [
              "array([1])"
            ]
          },
          "metadata": {},
          "execution_count": 51
        }
      ]
    },
    {
      "cell_type": "code",
      "source": [
        "model2.predict([[3,1,1,1,2,2,2,1,3,1,1,4,2,5,3,1,2,1]])"
      ],
      "metadata": {
        "colab": {
          "base_uri": "https://localhost:8080/"
        },
        "id": "HAnuSuBRe_qi",
        "outputId": "1fcbd2ed-2464-4640-dbaf-80649b4ecd50"
      },
      "execution_count": 52,
      "outputs": [
        {
          "output_type": "stream",
          "name": "stderr",
          "text": [
            "/usr/local/lib/python3.10/dist-packages/sklearn/base.py:439: UserWarning: X does not have valid feature names, but RandomForestClassifier was fitted with feature names\n",
            "  warnings.warn(\n"
          ]
        },
        {
          "output_type": "execute_result",
          "data": {
            "text/plain": [
              "array([2])"
            ]
          },
          "metadata": {},
          "execution_count": 52
        }
      ]
    },
    {
      "cell_type": "code",
      "source": [
        "import pickle"
      ],
      "metadata": {
        "id": "ArVGUiCJrt_M"
      },
      "execution_count": 44,
      "outputs": []
    },
    {
      "cell_type": "code",
      "source": [
        "pickle.dump(model2,open('a.pkl','wb'))"
      ],
      "metadata": {
        "id": "CLABEwq14rYB"
      },
      "execution_count": 45,
      "outputs": []
    }
  ]
}